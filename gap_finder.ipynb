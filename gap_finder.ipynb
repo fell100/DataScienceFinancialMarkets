{
 "cells": [
  {
   "attachments": {},
   "cell_type": "markdown",
   "metadata": {},
   "source": [
    "### Carregando os dados e Gerando análises"
   ]
  },
  {
   "cell_type": "code",
   "execution_count": 1,
   "metadata": {},
   "outputs": [
    {
     "data": {
      "text/plain": [
       "\"\\n[[\\n\\n    '<CLOSE>'\\n,'<VOL>'\\n#TEMP\\n,'<HOUR>'\\n,'<MINUTE>'\\n,'<OPEN>'\\n,'<HIGH>'\\n,'<LOW>'\\n,'<DATE>'\\n#-------------\\n,'RSI_Buy'\\n,'RSI_Sell'\\n,'SMA_Buy'\\n,'SMA_Sell'\\n,'ROC_Buy'\\n,'ROC_Sell'\\n,'EMA_Buy'\\n,'EMA_Sell'\\n,'WMA_Buy'\\n,'WMA_Sell'\\n,'MACD'\\n,'MACD_Buy'\\n,'MACD_Sell'\\n,'<CLOSE>X<VOL>'\\n,'<CLOSE>2'\\n,'<VOL>2'\\n,'<CLOSE>XMACD'\\n,'<CLOSE>2'\\n,'MACD2'\\n,'RSI_Buy_SMA_Buy'\\n,'RSI_Buy_ROC_Buy'\\n,'RSI_Buy_EMA_Buy'\\n,'RSI_Buy_WMA_Buy'\\n,'RSI_Buy_MACD_Buy'\\n,'SMA_Buy_ROC_Buy'\\n,'SMA_Buy_EMA_Buy'\\n,'SMA_Buy_WMA_Buy'\\n,'SMA_Buy_MACD_Buy'\\n,'ROC_Buy_EMA_Buy'\\n,'ROC_Buy_WMA_Buy'\\n,'ROC_Buy_MACD_Buy'\\n,'EMA_Buy_WMA_Buy'\\n,'EMA_Buy_MACD_Buy'\\n,'WMA_Buy_MACD_Buy'\\n,'RSI_Sell_SMA_Sell'\\n,'RSI_Sell_ROC_Sell'\\n,'RSI_Sell_EMA_Sell'\\n,'RSI_Sell_WMA_Sell'\\n,'RSI_Sell_MACD_Sell'\\n,'SMA_Sell_ROC_Sell'\\n,'SMA_Sell_EMA_Sell'\\n,'SMA_Sell_WMA_Sell'\\n,'SMA_Sell_MACD_Sell'\\n,'ROC_Sell_EMA_Sell'\\n,'ROC_Sell_WMA_Sell'\\n,'ROC_Sell_MACD_Sell'\\n,'EMA_Sell_WMA_Sell'\\n,'EMA_Sell_MACD_Sell'\\n,'WMA_Sell_MACD_Sell'\\n,'<HOUR_SIN>'\\n,'<HOUR_COSINE>'\\n,'<MINUTE_SIN>'\\n,'<MINUTE_COSINE>'\\n,'<DAY_SIN>'\\n,'<DAY_COSINE>'\\n,'<YEAR_SIN>'\\n,'<YEAR_COSINE>'\\n,'<WEEKDAY_SIN>'\\n,'<WEEKDAY_COSINE>'\\n,'<MONTH_SIN>'\\n,'<MONTH_COSINE>'\\n,'Max<VOL>'\\n,'Mean<VOL>'\\n,'Min<VOL>'\\n,'Std<VOL>'\\n,'Var<VOL>'\\n,'Ptp<VOL>'\\n,'Percentile_10_<VOL>'\\n,'Percentile_60_<VOL>'\\n,'Percentile_90_<VOL>'\\n,'quantile_5_<VOL>'\\n,'quantile_95_<VOL>'\\n,'quantile_99_<VOL>'\\n,'Max<CLOSE>'\\n,'Mean<CLOSE>'\\n,'Min<CLOSE>'\\n,'Std<CLOSE>'\\n,'Var<CLOSE>'\\n,'Ptp<CLOSE>'\\n,'Percentile_10_<CLOSE>'\\n,'Percentile_60_<CLOSE>'\\n,'Percentile_90_<CLOSE>'\\n,'quantile_5_<CLOSE>'\\n,'quantile_95_<CLOSE>'\\n,'quantile_99_<CLOSE>'\\n,'MaxMACD'\\n,'MeanMACD'\\n,'MinMACD'\\n,'StdMACD'\\n,'VarMACD'\\n,'PtpMACD'\\n,'Percentile_10_MACD'\\n,'Percentile_60_MACD'\\n,'Percentile_90_MACD'\\n,'quantile_5_MACD'\\n,'quantile_95_MACD'\\n,'quantile_99_MACD'\\n]]\\n\""
      ]
     },
     "execution_count": 1,
     "metadata": {},
     "output_type": "execute_result"
    }
   ],
   "source": [
    "import pandas as pd\n",
    "\n",
    "market_data = pd.read_csv('WINM1_PROCESSED.CSV')\n",
    "'''\n",
    "[[\n",
    "\n",
    "    '<CLOSE>'\n",
    ",'<VOL>'\n",
    "#TEMP\n",
    ",'<HOUR>'\n",
    ",'<MINUTE>'\n",
    ",'<OPEN>'\n",
    ",'<HIGH>'\n",
    ",'<LOW>'\n",
    ",'<DATE>'\n",
    "#-------------\n",
    ",'RSI_Buy'\n",
    ",'RSI_Sell'\n",
    ",'SMA_Buy'\n",
    ",'SMA_Sell'\n",
    ",'ROC_Buy'\n",
    ",'ROC_Sell'\n",
    ",'EMA_Buy'\n",
    ",'EMA_Sell'\n",
    ",'WMA_Buy'\n",
    ",'WMA_Sell'\n",
    ",'MACD'\n",
    ",'MACD_Buy'\n",
    ",'MACD_Sell'\n",
    ",'<CLOSE>X<VOL>'\n",
    ",'<CLOSE>2'\n",
    ",'<VOL>2'\n",
    ",'<CLOSE>XMACD'\n",
    ",'<CLOSE>2'\n",
    ",'MACD2'\n",
    ",'RSI_Buy_SMA_Buy'\n",
    ",'RSI_Buy_ROC_Buy'\n",
    ",'RSI_Buy_EMA_Buy'\n",
    ",'RSI_Buy_WMA_Buy'\n",
    ",'RSI_Buy_MACD_Buy'\n",
    ",'SMA_Buy_ROC_Buy'\n",
    ",'SMA_Buy_EMA_Buy'\n",
    ",'SMA_Buy_WMA_Buy'\n",
    ",'SMA_Buy_MACD_Buy'\n",
    ",'ROC_Buy_EMA_Buy'\n",
    ",'ROC_Buy_WMA_Buy'\n",
    ",'ROC_Buy_MACD_Buy'\n",
    ",'EMA_Buy_WMA_Buy'\n",
    ",'EMA_Buy_MACD_Buy'\n",
    ",'WMA_Buy_MACD_Buy'\n",
    ",'RSI_Sell_SMA_Sell'\n",
    ",'RSI_Sell_ROC_Sell'\n",
    ",'RSI_Sell_EMA_Sell'\n",
    ",'RSI_Sell_WMA_Sell'\n",
    ",'RSI_Sell_MACD_Sell'\n",
    ",'SMA_Sell_ROC_Sell'\n",
    ",'SMA_Sell_EMA_Sell'\n",
    ",'SMA_Sell_WMA_Sell'\n",
    ",'SMA_Sell_MACD_Sell'\n",
    ",'ROC_Sell_EMA_Sell'\n",
    ",'ROC_Sell_WMA_Sell'\n",
    ",'ROC_Sell_MACD_Sell'\n",
    ",'EMA_Sell_WMA_Sell'\n",
    ",'EMA_Sell_MACD_Sell'\n",
    ",'WMA_Sell_MACD_Sell'\n",
    ",'<HOUR_SIN>'\n",
    ",'<HOUR_COSINE>'\n",
    ",'<MINUTE_SIN>'\n",
    ",'<MINUTE_COSINE>'\n",
    ",'<DAY_SIN>'\n",
    ",'<DAY_COSINE>'\n",
    ",'<YEAR_SIN>'\n",
    ",'<YEAR_COSINE>'\n",
    ",'<WEEKDAY_SIN>'\n",
    ",'<WEEKDAY_COSINE>'\n",
    ",'<MONTH_SIN>'\n",
    ",'<MONTH_COSINE>'\n",
    ",'Max<VOL>'\n",
    ",'Mean<VOL>'\n",
    ",'Min<VOL>'\n",
    ",'Std<VOL>'\n",
    ",'Var<VOL>'\n",
    ",'Ptp<VOL>'\n",
    ",'Percentile_10_<VOL>'\n",
    ",'Percentile_60_<VOL>'\n",
    ",'Percentile_90_<VOL>'\n",
    ",'quantile_5_<VOL>'\n",
    ",'quantile_95_<VOL>'\n",
    ",'quantile_99_<VOL>'\n",
    ",'Max<CLOSE>'\n",
    ",'Mean<CLOSE>'\n",
    ",'Min<CLOSE>'\n",
    ",'Std<CLOSE>'\n",
    ",'Var<CLOSE>'\n",
    ",'Ptp<CLOSE>'\n",
    ",'Percentile_10_<CLOSE>'\n",
    ",'Percentile_60_<CLOSE>'\n",
    ",'Percentile_90_<CLOSE>'\n",
    ",'quantile_5_<CLOSE>'\n",
    ",'quantile_95_<CLOSE>'\n",
    ",'quantile_99_<CLOSE>'\n",
    ",'MaxMACD'\n",
    ",'MeanMACD'\n",
    ",'MinMACD'\n",
    ",'StdMACD'\n",
    ",'VarMACD'\n",
    ",'PtpMACD'\n",
    ",'Percentile_10_MACD'\n",
    ",'Percentile_60_MACD'\n",
    ",'Percentile_90_MACD'\n",
    ",'quantile_5_MACD'\n",
    ",'quantile_95_MACD'\n",
    ",'quantile_99_MACD'\n",
    "]]\n",
    "'''"
   ]
  },
  {
   "cell_type": "code",
   "execution_count": 2,
   "metadata": {},
   "outputs": [],
   "source": [
    "#market_data = market_data[market_data.columns[1:15]]"
   ]
  },
  {
   "cell_type": "code",
   "execution_count": 3,
   "metadata": {},
   "outputs": [],
   "source": [
    "market_data['Close_Anterior'] = market_data['<CLOSE>'].shift(1)"
   ]
  },
  {
   "cell_type": "code",
   "execution_count": 4,
   "metadata": {},
   "outputs": [
    {
     "data": {
      "text/html": [
       "<div>\n",
       "<style scoped>\n",
       "    .dataframe tbody tr th:only-of-type {\n",
       "        vertical-align: middle;\n",
       "    }\n",
       "\n",
       "    .dataframe tbody tr th {\n",
       "        vertical-align: top;\n",
       "    }\n",
       "\n",
       "    .dataframe thead th {\n",
       "        text-align: right;\n",
       "    }\n",
       "</style>\n",
       "<table border=\"1\" class=\"dataframe\">\n",
       "  <thead>\n",
       "    <tr style=\"text-align: right;\">\n",
       "      <th></th>\n",
       "      <th>Unnamed: 0</th>\n",
       "      <th>&lt;DATE&gt;</th>\n",
       "      <th>&lt;TIME&gt;</th>\n",
       "      <th>&lt;OPEN&gt;</th>\n",
       "      <th>&lt;HIGH&gt;</th>\n",
       "      <th>&lt;LOW&gt;</th>\n",
       "      <th>&lt;CLOSE&gt;</th>\n",
       "      <th>&lt;TICKVOL&gt;</th>\n",
       "      <th>&lt;VOL&gt;</th>\n",
       "      <th>&lt;SPREAD&gt;</th>\n",
       "      <th>...</th>\n",
       "      <th>VarMACD_120</th>\n",
       "      <th>PtpMACD_120</th>\n",
       "      <th>Percentile_10_MACD_120</th>\n",
       "      <th>Percentile_60_MACD_120</th>\n",
       "      <th>Percentile_90_MACD_120</th>\n",
       "      <th>quantile_5_MACD_120</th>\n",
       "      <th>quantile_95_MACD_120</th>\n",
       "      <th>quantile_99_MACD_120</th>\n",
       "      <th>Trend</th>\n",
       "      <th>Close_Anterior</th>\n",
       "    </tr>\n",
       "  </thead>\n",
       "  <tbody>\n",
       "    <tr>\n",
       "      <th>214</th>\n",
       "      <td>214</td>\n",
       "      <td>2020.10.16</td>\n",
       "      <td>09:00:00</td>\n",
       "      <td>99340</td>\n",
       "      <td>99435</td>\n",
       "      <td>99340</td>\n",
       "      <td>99365</td>\n",
       "      <td>6278</td>\n",
       "      <td>18463</td>\n",
       "      <td>5</td>\n",
       "      <td>...</td>\n",
       "      <td>420.216142</td>\n",
       "      <td>78.077996</td>\n",
       "      <td>-43.893626</td>\n",
       "      <td>-11.393736</td>\n",
       "      <td>13.391820</td>\n",
       "      <td>-48.642882</td>\n",
       "      <td>19.008262</td>\n",
       "      <td>20.500031</td>\n",
       "      <td>-1.0</td>\n",
       "      <td>99045.0</td>\n",
       "    </tr>\n",
       "    <tr>\n",
       "      <th>749</th>\n",
       "      <td>749</td>\n",
       "      <td>2020.10.19</td>\n",
       "      <td>09:00:00</td>\n",
       "      <td>99150</td>\n",
       "      <td>99185</td>\n",
       "      <td>99100</td>\n",
       "      <td>99125</td>\n",
       "      <td>4651</td>\n",
       "      <td>17968</td>\n",
       "      <td>5</td>\n",
       "      <td>...</td>\n",
       "      <td>1724.364935</td>\n",
       "      <td>162.578978</td>\n",
       "      <td>-65.345470</td>\n",
       "      <td>2.826491</td>\n",
       "      <td>40.638582</td>\n",
       "      <td>-71.647219</td>\n",
       "      <td>48.132917</td>\n",
       "      <td>51.334352</td>\n",
       "      <td>1.0</td>\n",
       "      <td>98700.0</td>\n",
       "    </tr>\n",
       "    <tr>\n",
       "      <th>1284</th>\n",
       "      <td>1284</td>\n",
       "      <td>2020.10.20</td>\n",
       "      <td>09:00:00</td>\n",
       "      <td>99200</td>\n",
       "      <td>99295</td>\n",
       "      <td>99125</td>\n",
       "      <td>99280</td>\n",
       "      <td>8260</td>\n",
       "      <td>21641</td>\n",
       "      <td>5</td>\n",
       "      <td>...</td>\n",
       "      <td>888.331944</td>\n",
       "      <td>149.831422</td>\n",
       "      <td>-57.645045</td>\n",
       "      <td>9.536599</td>\n",
       "      <td>17.566799</td>\n",
       "      <td>-85.875238</td>\n",
       "      <td>18.739738</td>\n",
       "      <td>22.833523</td>\n",
       "      <td>1.0</td>\n",
       "      <td>98940.0</td>\n",
       "    </tr>\n",
       "    <tr>\n",
       "      <th>1819</th>\n",
       "      <td>1819</td>\n",
       "      <td>2020.10.21</td>\n",
       "      <td>09:00:00</td>\n",
       "      <td>100500</td>\n",
       "      <td>100580</td>\n",
       "      <td>100485</td>\n",
       "      <td>100560</td>\n",
       "      <td>6497</td>\n",
       "      <td>23598</td>\n",
       "      <td>5</td>\n",
       "      <td>...</td>\n",
       "      <td>490.934575</td>\n",
       "      <td>102.759760</td>\n",
       "      <td>-38.490108</td>\n",
       "      <td>-6.828753</td>\n",
       "      <td>17.358411</td>\n",
       "      <td>-50.481305</td>\n",
       "      <td>24.979997</td>\n",
       "      <td>30.318005</td>\n",
       "      <td>1.0</td>\n",
       "      <td>100930.0</td>\n",
       "    </tr>\n",
       "    <tr>\n",
       "      <th>2354</th>\n",
       "      <td>2354</td>\n",
       "      <td>2020.10.22</td>\n",
       "      <td>09:00:00</td>\n",
       "      <td>100660</td>\n",
       "      <td>100665</td>\n",
       "      <td>100570</td>\n",
       "      <td>100615</td>\n",
       "      <td>4720</td>\n",
       "      <td>13803</td>\n",
       "      <td>5</td>\n",
       "      <td>...</td>\n",
       "      <td>989.994991</td>\n",
       "      <td>129.888157</td>\n",
       "      <td>-71.714074</td>\n",
       "      <td>-16.130925</td>\n",
       "      <td>8.219607</td>\n",
       "      <td>-77.800358</td>\n",
       "      <td>28.618010</td>\n",
       "      <td>43.423994</td>\n",
       "      <td>1.0</td>\n",
       "      <td>100710.0</td>\n",
       "    </tr>\n",
       "    <tr>\n",
       "      <th>...</th>\n",
       "      <td>...</td>\n",
       "      <td>...</td>\n",
       "      <td>...</td>\n",
       "      <td>...</td>\n",
       "      <td>...</td>\n",
       "      <td>...</td>\n",
       "      <td>...</td>\n",
       "      <td>...</td>\n",
       "      <td>...</td>\n",
       "      <td>...</td>\n",
       "      <td>...</td>\n",
       "      <td>...</td>\n",
       "      <td>...</td>\n",
       "      <td>...</td>\n",
       "      <td>...</td>\n",
       "      <td>...</td>\n",
       "      <td>...</td>\n",
       "      <td>...</td>\n",
       "      <td>...</td>\n",
       "      <td>...</td>\n",
       "      <td>...</td>\n",
       "    </tr>\n",
       "    <tr>\n",
       "      <th>279810</th>\n",
       "      <td>279810</td>\n",
       "      <td>2022.11.30</td>\n",
       "      <td>09:00:00</td>\n",
       "      <td>112000</td>\n",
       "      <td>112100</td>\n",
       "      <td>111840</td>\n",
       "      <td>112100</td>\n",
       "      <td>9521</td>\n",
       "      <td>23481</td>\n",
       "      <td>5</td>\n",
       "      <td>...</td>\n",
       "      <td>2213.201773</td>\n",
       "      <td>170.492624</td>\n",
       "      <td>-109.298657</td>\n",
       "      <td>-11.298763</td>\n",
       "      <td>9.817519</td>\n",
       "      <td>-119.659848</td>\n",
       "      <td>20.153672</td>\n",
       "      <td>22.959618</td>\n",
       "      <td>0.0</td>\n",
       "      <td>111620.0</td>\n",
       "    </tr>\n",
       "    <tr>\n",
       "      <th>280375</th>\n",
       "      <td>280375</td>\n",
       "      <td>2022.12.01</td>\n",
       "      <td>09:00:00</td>\n",
       "      <td>112500</td>\n",
       "      <td>112625</td>\n",
       "      <td>112375</td>\n",
       "      <td>112460</td>\n",
       "      <td>12767</td>\n",
       "      <td>27598</td>\n",
       "      <td>5</td>\n",
       "      <td>...</td>\n",
       "      <td>4435.094482</td>\n",
       "      <td>251.021059</td>\n",
       "      <td>-13.651128</td>\n",
       "      <td>49.531228</td>\n",
       "      <td>168.627758</td>\n",
       "      <td>-37.369226</td>\n",
       "      <td>185.443489</td>\n",
       "      <td>192.381797</td>\n",
       "      <td>-1.0</td>\n",
       "      <td>113050.0</td>\n",
       "    </tr>\n",
       "    <tr>\n",
       "      <th>280940</th>\n",
       "      <td>280940</td>\n",
       "      <td>2022.12.02</td>\n",
       "      <td>09:00:00</td>\n",
       "      <td>111500</td>\n",
       "      <td>111710</td>\n",
       "      <td>111500</td>\n",
       "      <td>111655</td>\n",
       "      <td>6988</td>\n",
       "      <td>14727</td>\n",
       "      <td>5</td>\n",
       "      <td>...</td>\n",
       "      <td>613.161279</td>\n",
       "      <td>89.964874</td>\n",
       "      <td>-43.000123</td>\n",
       "      <td>1.546398</td>\n",
       "      <td>22.816895</td>\n",
       "      <td>-47.718359</td>\n",
       "      <td>24.525945</td>\n",
       "      <td>29.315567</td>\n",
       "      <td>0.0</td>\n",
       "      <td>111575.0</td>\n",
       "    </tr>\n",
       "    <tr>\n",
       "      <th>281505</th>\n",
       "      <td>281505</td>\n",
       "      <td>2022.12.05</td>\n",
       "      <td>09:00:00</td>\n",
       "      <td>112815</td>\n",
       "      <td>112840</td>\n",
       "      <td>112700</td>\n",
       "      <td>112700</td>\n",
       "      <td>4581</td>\n",
       "      <td>11569</td>\n",
       "      <td>5</td>\n",
       "      <td>...</td>\n",
       "      <td>257.297952</td>\n",
       "      <td>64.892263</td>\n",
       "      <td>-36.728813</td>\n",
       "      <td>-11.970989</td>\n",
       "      <td>4.708672</td>\n",
       "      <td>-40.211775</td>\n",
       "      <td>11.566150</td>\n",
       "      <td>15.501999</td>\n",
       "      <td>0.0</td>\n",
       "      <td>112235.0</td>\n",
       "    </tr>\n",
       "    <tr>\n",
       "      <th>282070</th>\n",
       "      <td>282070</td>\n",
       "      <td>2022.12.06</td>\n",
       "      <td>09:00:00</td>\n",
       "      <td>109770</td>\n",
       "      <td>110080</td>\n",
       "      <td>109750</td>\n",
       "      <td>110075</td>\n",
       "      <td>13730</td>\n",
       "      <td>29665</td>\n",
       "      <td>5</td>\n",
       "      <td>...</td>\n",
       "      <td>1002.740521</td>\n",
       "      <td>127.848440</td>\n",
       "      <td>-71.837787</td>\n",
       "      <td>-15.705489</td>\n",
       "      <td>12.542915</td>\n",
       "      <td>-92.563671</td>\n",
       "      <td>19.132748</td>\n",
       "      <td>24.672060</td>\n",
       "      <td>1.0</td>\n",
       "      <td>109480.0</td>\n",
       "    </tr>\n",
       "  </tbody>\n",
       "</table>\n",
       "<p>462 rows × 184 columns</p>\n",
       "</div>"
      ],
      "text/plain": [
       "        Unnamed: 0      <DATE>    <TIME>  <OPEN>  <HIGH>   <LOW>  <CLOSE>  \\\n",
       "214            214  2020.10.16  09:00:00   99340   99435   99340    99365   \n",
       "749            749  2020.10.19  09:00:00   99150   99185   99100    99125   \n",
       "1284          1284  2020.10.20  09:00:00   99200   99295   99125    99280   \n",
       "1819          1819  2020.10.21  09:00:00  100500  100580  100485   100560   \n",
       "2354          2354  2020.10.22  09:00:00  100660  100665  100570   100615   \n",
       "...            ...         ...       ...     ...     ...     ...      ...   \n",
       "279810      279810  2022.11.30  09:00:00  112000  112100  111840   112100   \n",
       "280375      280375  2022.12.01  09:00:00  112500  112625  112375   112460   \n",
       "280940      280940  2022.12.02  09:00:00  111500  111710  111500   111655   \n",
       "281505      281505  2022.12.05  09:00:00  112815  112840  112700   112700   \n",
       "282070      282070  2022.12.06  09:00:00  109770  110080  109750   110075   \n",
       "\n",
       "        <TICKVOL>  <VOL>  <SPREAD>  ...  VarMACD_120  PtpMACD_120  \\\n",
       "214          6278  18463         5  ...   420.216142    78.077996   \n",
       "749          4651  17968         5  ...  1724.364935   162.578978   \n",
       "1284         8260  21641         5  ...   888.331944   149.831422   \n",
       "1819         6497  23598         5  ...   490.934575   102.759760   \n",
       "2354         4720  13803         5  ...   989.994991   129.888157   \n",
       "...           ...    ...       ...  ...          ...          ...   \n",
       "279810       9521  23481         5  ...  2213.201773   170.492624   \n",
       "280375      12767  27598         5  ...  4435.094482   251.021059   \n",
       "280940       6988  14727         5  ...   613.161279    89.964874   \n",
       "281505       4581  11569         5  ...   257.297952    64.892263   \n",
       "282070      13730  29665         5  ...  1002.740521   127.848440   \n",
       "\n",
       "        Percentile_10_MACD_120  Percentile_60_MACD_120  \\\n",
       "214                 -43.893626              -11.393736   \n",
       "749                 -65.345470                2.826491   \n",
       "1284                -57.645045                9.536599   \n",
       "1819                -38.490108               -6.828753   \n",
       "2354                -71.714074              -16.130925   \n",
       "...                        ...                     ...   \n",
       "279810             -109.298657              -11.298763   \n",
       "280375              -13.651128               49.531228   \n",
       "280940              -43.000123                1.546398   \n",
       "281505              -36.728813              -11.970989   \n",
       "282070              -71.837787              -15.705489   \n",
       "\n",
       "        Percentile_90_MACD_120  quantile_5_MACD_120  quantile_95_MACD_120  \\\n",
       "214                  13.391820           -48.642882             19.008262   \n",
       "749                  40.638582           -71.647219             48.132917   \n",
       "1284                 17.566799           -85.875238             18.739738   \n",
       "1819                 17.358411           -50.481305             24.979997   \n",
       "2354                  8.219607           -77.800358             28.618010   \n",
       "...                        ...                  ...                   ...   \n",
       "279810                9.817519          -119.659848             20.153672   \n",
       "280375              168.627758           -37.369226            185.443489   \n",
       "280940               22.816895           -47.718359             24.525945   \n",
       "281505                4.708672           -40.211775             11.566150   \n",
       "282070               12.542915           -92.563671             19.132748   \n",
       "\n",
       "        quantile_99_MACD_120  Trend  Close_Anterior  \n",
       "214                20.500031   -1.0         99045.0  \n",
       "749                51.334352    1.0         98700.0  \n",
       "1284               22.833523    1.0         98940.0  \n",
       "1819               30.318005    1.0        100930.0  \n",
       "2354               43.423994    1.0        100710.0  \n",
       "...                      ...    ...             ...  \n",
       "279810             22.959618    0.0        111620.0  \n",
       "280375            192.381797   -1.0        113050.0  \n",
       "280940             29.315567    0.0        111575.0  \n",
       "281505             15.501999    0.0        112235.0  \n",
       "282070             24.672060    1.0        109480.0  \n",
       "\n",
       "[462 rows x 184 columns]"
      ]
     },
     "execution_count": 4,
     "metadata": {},
     "output_type": "execute_result"
    }
   ],
   "source": [
    "#Linhas onde ocorrem os gaps\n",
    "gaps = market_data[((market_data['<HOUR>'] == 9) & (market_data['<MINUTE>'] == 0))]\n",
    "gaps"
   ]
  },
  {
   "cell_type": "code",
   "execution_count": 5,
   "metadata": {},
   "outputs": [],
   "source": [
    "tamanho_gaps = gaps['<OPEN>'] - gaps['Close_Anterior']"
   ]
  },
  {
   "cell_type": "code",
   "execution_count": 6,
   "metadata": {},
   "outputs": [
    {
     "data": {
      "application/vnd.plotly.v1+json": {
       "config": {
        "plotlyServerURL": "https://plot.ly"
       },
       "data": [
        {
         "alignmentgroup": "True",
         "bingroup": "x",
         "hovertemplate": "variable=Tamanho Gap<br>value=%{x}<br>count=%{y}<extra></extra>",
         "legendgroup": "Tamanho Gap",
         "marker": {
          "color": "teal",
          "pattern": {
           "shape": ""
          }
         },
         "name": "Tamanho Gap",
         "nbinsx": 50,
         "offsetgroup": "Tamanho Gap",
         "orientation": "v",
         "showlegend": true,
         "type": "histogram",
         "x": [
          295,
          450,
          260,
          -430,
          -50,
          45,
          -785,
          535,
          105,
          405,
          -685,
          250,
          525,
          -280,
          -630,
          385,
          -50,
          295,
          735,
          665,
          -640,
          -145,
          160,
          -315,
          -50,
          -100,
          525,
          -435,
          -630,
          290,
          210,
          -1000,
          580,
          290,
          205,
          400,
          265,
          630,
          250,
          290,
          1095,
          295,
          170,
          500,
          -865,
          300,
          -225,
          535,
          -495,
          380,
          930,
          -45,
          505,
          -710,
          -555,
          175,
          -725,
          1035,
          325,
          270,
          725,
          -70,
          250,
          460,
          -590,
          -180,
          55,
          -470,
          265,
          1500,
          400,
          335,
          205,
          -595,
          -265,
          -90,
          280,
          -990,
          385,
          35,
          220,
          -295,
          -210,
          -110,
          505,
          850,
          -310,
          -175,
          250,
          -210,
          -325,
          -560,
          480,
          175,
          -50,
          -120,
          -445,
          505,
          445,
          240,
          10,
          410,
          -255,
          -230,
          745,
          -265,
          520,
          -20,
          250,
          -110,
          -910,
          -205,
          210,
          545,
          -425,
          540,
          -110,
          455,
          195,
          -75,
          205,
          0,
          240,
          0,
          460,
          -170,
          -325,
          95,
          90,
          15,
          35,
          285,
          200,
          170,
          630,
          -95,
          60,
          485,
          15,
          0,
          445,
          160,
          -100,
          -100,
          -375,
          450,
          220,
          -420,
          -175,
          620,
          850,
          110,
          -430,
          100,
          620,
          170,
          25,
          325,
          125,
          -350,
          495,
          110,
          -650,
          1355,
          40,
          0,
          1230,
          420,
          -570,
          270,
          275,
          260,
          190,
          -645,
          -315,
          1740,
          -1760,
          -760,
          365,
          850,
          -130,
          -340,
          410,
          270,
          -440,
          200,
          415,
          505,
          345,
          -1220,
          740,
          170,
          920,
          -380,
          -250,
          -755,
          -630,
          890,
          1260,
          460,
          -745,
          330,
          -845,
          680,
          510,
          360,
          -820,
          670,
          -1010,
          1070,
          365,
          200,
          1270,
          950,
          215,
          -500,
          -400,
          240,
          -810,
          -635,
          170,
          570,
          -410,
          245,
          -290,
          610,
          -300,
          -5360,
          -365,
          510,
          1315,
          470,
          -950,
          440,
          540,
          -480,
          1880,
          755,
          -495,
          855,
          -90,
          245,
          500,
          200,
          140,
          205,
          530,
          680,
          135,
          395,
          -215,
          -510,
          85,
          25,
          -440,
          -165,
          -325,
          -700,
          0,
          550,
          -350,
          -595,
          -540,
          765,
          30,
          -260,
          30,
          110,
          255,
          -440,
          -490,
          65,
          -420,
          250,
          105,
          -375,
          -800,
          540,
          1120,
          -380,
          455,
          160,
          700,
          -95,
          -155,
          -55,
          -815,
          -445,
          905,
          1380,
          -640,
          1000,
          -150,
          70,
          -320,
          -710,
          -175,
          110,
          -465,
          170,
          -10,
          220,
          800,
          -265,
          -95,
          315,
          240,
          -85,
          -745,
          355,
          330,
          -605,
          435,
          2290,
          -235,
          -165,
          -195,
          445,
          -315,
          1270,
          1075,
          -65,
          -280,
          -150,
          160,
          -860,
          -685,
          530,
          915,
          -1145,
          1115,
          -185,
          1010,
          -790,
          -385,
          790,
          640,
          -1250,
          -550,
          605,
          -340,
          745,
          285,
          375,
          315,
          -635,
          815,
          -500,
          -225,
          315,
          145,
          200,
          2795,
          120,
          750,
          -1940,
          675,
          800,
          500,
          465,
          10,
          -1075,
          -65,
          -520,
          -370,
          -365,
          785,
          -380,
          -885,
          -450,
          10,
          305,
          1085,
          625,
          -465,
          -155,
          210,
          460,
          -125,
          525,
          -305,
          290,
          265,
          -575,
          -40,
          -160,
          -170,
          540,
          -190,
          -85,
          275,
          -15,
          -1210,
          -165,
          1160,
          295,
          -1120,
          -700,
          670,
          -50,
          735,
          -305,
          -725,
          175,
          180,
          -450,
          -195,
          -135,
          -230,
          1140,
          1090,
          680,
          550,
          -150,
          -400,
          -500,
          -1235,
          -560,
          190,
          880,
          -715,
          1220,
          -1000,
          -350,
          385,
          1090,
          -830,
          -490,
          250,
          -290,
          -690,
          2900,
          495,
          1170,
          1035,
          -650,
          605,
          -565,
          -545,
          -30,
          245,
          -350,
          665,
          775,
          60,
          -955,
          -700,
          -480,
          -565,
          1460,
          -10,
          -380,
          395,
          1260,
          -680,
          -770,
          780,
          380,
          -550,
          -75,
          580,
          290
         ],
         "xaxis": "x",
         "yaxis": "y"
        }
       ],
       "layout": {
        "annotations": [
         {
          "showarrow": false,
          "text": "Mean",
          "x": 74.04761904761905,
          "xanchor": "left",
          "xref": "x",
          "y": 1,
          "yanchor": "top",
          "yref": "y domain"
         },
         {
          "showarrow": false,
          "text": "Median",
          "x": -400,
          "xanchor": "left",
          "xref": "x",
          "y": 1,
          "yanchor": "top",
          "yref": "y domain"
         },
         {
          "showarrow": false,
          "text": "1std",
          "x": 653.2356159624036,
          "xanchor": "left",
          "xref": "x",
          "y": 1,
          "yanchor": "top",
          "yref": "y domain"
         },
         {
          "showarrow": false,
          "text": "1std",
          "x": -653.2356159624036,
          "xanchor": "left",
          "xref": "x",
          "y": 1,
          "yanchor": "top",
          "yref": "y domain"
         },
         {
          "showarrow": false,
          "text": "2std",
          "x": 1306.4712319248072,
          "xanchor": "left",
          "xref": "x",
          "y": 1,
          "yanchor": "top",
          "yref": "y domain"
         },
         {
          "showarrow": false,
          "text": "2std",
          "x": -1306.4712319248072,
          "xanchor": "left",
          "xref": "x",
          "y": 1,
          "yanchor": "top",
          "yref": "y domain"
         }
        ],
        "bargap": 0.2,
        "barmode": "relative",
        "height": 600,
        "legend": {
         "title": {
          "text": "variable"
         },
         "tracegroupgap": 0
        },
        "shapes": [
         {
          "line": {
           "color": "turquoise",
           "dash": "solid",
           "width": 3
          },
          "type": "line",
          "x0": 74.04761904761905,
          "x1": 74.04761904761905,
          "xref": "x",
          "y0": 0,
          "y1": 1,
          "yref": "y domain"
         },
         {
          "line": {
           "color": "wheat",
           "dash": "dash",
           "width": 3
          },
          "type": "line",
          "x0": 107.5,
          "x1": 107.5,
          "xref": "x",
          "y0": 0,
          "y1": 1,
          "yref": "y domain"
         },
         {
          "line": {
           "color": "red",
           "dash": "solid",
           "width": 3
          },
          "type": "line",
          "x0": 653.2356159624036,
          "x1": 653.2356159624036,
          "xref": "x",
          "y0": 0,
          "y1": 1,
          "yref": "y domain"
         },
         {
          "line": {
           "color": "red",
           "dash": "solid",
           "width": 3
          },
          "type": "line",
          "x0": -653.2356159624036,
          "x1": -653.2356159624036,
          "xref": "x",
          "y0": 0,
          "y1": 1,
          "yref": "y domain"
         },
         {
          "line": {
           "color": "orange",
           "dash": "dash",
           "width": 3
          },
          "type": "line",
          "x0": 1306.4712319248072,
          "x1": 1306.4712319248072,
          "xref": "x",
          "y0": 0,
          "y1": 1,
          "yref": "y domain"
         },
         {
          "line": {
           "color": "orange",
           "dash": "dash",
           "width": 3
          },
          "type": "line",
          "x0": -1306.4712319248072,
          "x1": -1306.4712319248072,
          "xref": "x",
          "y0": 0,
          "y1": 1,
          "yref": "y domain"
         }
        ],
        "template": {
         "data": {
          "bar": [
           {
            "error_x": {
             "color": "#f2f5fa"
            },
            "error_y": {
             "color": "#f2f5fa"
            },
            "marker": {
             "line": {
              "color": "rgb(17,17,17)",
              "width": 0.5
             },
             "pattern": {
              "fillmode": "overlay",
              "size": 10,
              "solidity": 0.2
             }
            },
            "type": "bar"
           }
          ],
          "barpolar": [
           {
            "marker": {
             "line": {
              "color": "rgb(17,17,17)",
              "width": 0.5
             },
             "pattern": {
              "fillmode": "overlay",
              "size": 10,
              "solidity": 0.2
             }
            },
            "type": "barpolar"
           }
          ],
          "carpet": [
           {
            "aaxis": {
             "endlinecolor": "#A2B1C6",
             "gridcolor": "#506784",
             "linecolor": "#506784",
             "minorgridcolor": "#506784",
             "startlinecolor": "#A2B1C6"
            },
            "baxis": {
             "endlinecolor": "#A2B1C6",
             "gridcolor": "#506784",
             "linecolor": "#506784",
             "minorgridcolor": "#506784",
             "startlinecolor": "#A2B1C6"
            },
            "type": "carpet"
           }
          ],
          "choropleth": [
           {
            "colorbar": {
             "outlinewidth": 0,
             "ticks": ""
            },
            "type": "choropleth"
           }
          ],
          "contour": [
           {
            "colorbar": {
             "outlinewidth": 0,
             "ticks": ""
            },
            "colorscale": [
             [
              0,
              "#0d0887"
             ],
             [
              0.1111111111111111,
              "#46039f"
             ],
             [
              0.2222222222222222,
              "#7201a8"
             ],
             [
              0.3333333333333333,
              "#9c179e"
             ],
             [
              0.4444444444444444,
              "#bd3786"
             ],
             [
              0.5555555555555556,
              "#d8576b"
             ],
             [
              0.6666666666666666,
              "#ed7953"
             ],
             [
              0.7777777777777778,
              "#fb9f3a"
             ],
             [
              0.8888888888888888,
              "#fdca26"
             ],
             [
              1,
              "#f0f921"
             ]
            ],
            "type": "contour"
           }
          ],
          "contourcarpet": [
           {
            "colorbar": {
             "outlinewidth": 0,
             "ticks": ""
            },
            "type": "contourcarpet"
           }
          ],
          "heatmap": [
           {
            "colorbar": {
             "outlinewidth": 0,
             "ticks": ""
            },
            "colorscale": [
             [
              0,
              "#0d0887"
             ],
             [
              0.1111111111111111,
              "#46039f"
             ],
             [
              0.2222222222222222,
              "#7201a8"
             ],
             [
              0.3333333333333333,
              "#9c179e"
             ],
             [
              0.4444444444444444,
              "#bd3786"
             ],
             [
              0.5555555555555556,
              "#d8576b"
             ],
             [
              0.6666666666666666,
              "#ed7953"
             ],
             [
              0.7777777777777778,
              "#fb9f3a"
             ],
             [
              0.8888888888888888,
              "#fdca26"
             ],
             [
              1,
              "#f0f921"
             ]
            ],
            "type": "heatmap"
           }
          ],
          "heatmapgl": [
           {
            "colorbar": {
             "outlinewidth": 0,
             "ticks": ""
            },
            "colorscale": [
             [
              0,
              "#0d0887"
             ],
             [
              0.1111111111111111,
              "#46039f"
             ],
             [
              0.2222222222222222,
              "#7201a8"
             ],
             [
              0.3333333333333333,
              "#9c179e"
             ],
             [
              0.4444444444444444,
              "#bd3786"
             ],
             [
              0.5555555555555556,
              "#d8576b"
             ],
             [
              0.6666666666666666,
              "#ed7953"
             ],
             [
              0.7777777777777778,
              "#fb9f3a"
             ],
             [
              0.8888888888888888,
              "#fdca26"
             ],
             [
              1,
              "#f0f921"
             ]
            ],
            "type": "heatmapgl"
           }
          ],
          "histogram": [
           {
            "marker": {
             "pattern": {
              "fillmode": "overlay",
              "size": 10,
              "solidity": 0.2
             }
            },
            "type": "histogram"
           }
          ],
          "histogram2d": [
           {
            "colorbar": {
             "outlinewidth": 0,
             "ticks": ""
            },
            "colorscale": [
             [
              0,
              "#0d0887"
             ],
             [
              0.1111111111111111,
              "#46039f"
             ],
             [
              0.2222222222222222,
              "#7201a8"
             ],
             [
              0.3333333333333333,
              "#9c179e"
             ],
             [
              0.4444444444444444,
              "#bd3786"
             ],
             [
              0.5555555555555556,
              "#d8576b"
             ],
             [
              0.6666666666666666,
              "#ed7953"
             ],
             [
              0.7777777777777778,
              "#fb9f3a"
             ],
             [
              0.8888888888888888,
              "#fdca26"
             ],
             [
              1,
              "#f0f921"
             ]
            ],
            "type": "histogram2d"
           }
          ],
          "histogram2dcontour": [
           {
            "colorbar": {
             "outlinewidth": 0,
             "ticks": ""
            },
            "colorscale": [
             [
              0,
              "#0d0887"
             ],
             [
              0.1111111111111111,
              "#46039f"
             ],
             [
              0.2222222222222222,
              "#7201a8"
             ],
             [
              0.3333333333333333,
              "#9c179e"
             ],
             [
              0.4444444444444444,
              "#bd3786"
             ],
             [
              0.5555555555555556,
              "#d8576b"
             ],
             [
              0.6666666666666666,
              "#ed7953"
             ],
             [
              0.7777777777777778,
              "#fb9f3a"
             ],
             [
              0.8888888888888888,
              "#fdca26"
             ],
             [
              1,
              "#f0f921"
             ]
            ],
            "type": "histogram2dcontour"
           }
          ],
          "mesh3d": [
           {
            "colorbar": {
             "outlinewidth": 0,
             "ticks": ""
            },
            "type": "mesh3d"
           }
          ],
          "parcoords": [
           {
            "line": {
             "colorbar": {
              "outlinewidth": 0,
              "ticks": ""
             }
            },
            "type": "parcoords"
           }
          ],
          "pie": [
           {
            "automargin": true,
            "type": "pie"
           }
          ],
          "scatter": [
           {
            "marker": {
             "line": {
              "color": "#283442"
             }
            },
            "type": "scatter"
           }
          ],
          "scatter3d": [
           {
            "line": {
             "colorbar": {
              "outlinewidth": 0,
              "ticks": ""
             }
            },
            "marker": {
             "colorbar": {
              "outlinewidth": 0,
              "ticks": ""
             }
            },
            "type": "scatter3d"
           }
          ],
          "scattercarpet": [
           {
            "marker": {
             "colorbar": {
              "outlinewidth": 0,
              "ticks": ""
             }
            },
            "type": "scattercarpet"
           }
          ],
          "scattergeo": [
           {
            "marker": {
             "colorbar": {
              "outlinewidth": 0,
              "ticks": ""
             }
            },
            "type": "scattergeo"
           }
          ],
          "scattergl": [
           {
            "marker": {
             "line": {
              "color": "#283442"
             }
            },
            "type": "scattergl"
           }
          ],
          "scattermapbox": [
           {
            "marker": {
             "colorbar": {
              "outlinewidth": 0,
              "ticks": ""
             }
            },
            "type": "scattermapbox"
           }
          ],
          "scatterpolar": [
           {
            "marker": {
             "colorbar": {
              "outlinewidth": 0,
              "ticks": ""
             }
            },
            "type": "scatterpolar"
           }
          ],
          "scatterpolargl": [
           {
            "marker": {
             "colorbar": {
              "outlinewidth": 0,
              "ticks": ""
             }
            },
            "type": "scatterpolargl"
           }
          ],
          "scatterternary": [
           {
            "marker": {
             "colorbar": {
              "outlinewidth": 0,
              "ticks": ""
             }
            },
            "type": "scatterternary"
           }
          ],
          "surface": [
           {
            "colorbar": {
             "outlinewidth": 0,
             "ticks": ""
            },
            "colorscale": [
             [
              0,
              "#0d0887"
             ],
             [
              0.1111111111111111,
              "#46039f"
             ],
             [
              0.2222222222222222,
              "#7201a8"
             ],
             [
              0.3333333333333333,
              "#9c179e"
             ],
             [
              0.4444444444444444,
              "#bd3786"
             ],
             [
              0.5555555555555556,
              "#d8576b"
             ],
             [
              0.6666666666666666,
              "#ed7953"
             ],
             [
              0.7777777777777778,
              "#fb9f3a"
             ],
             [
              0.8888888888888888,
              "#fdca26"
             ],
             [
              1,
              "#f0f921"
             ]
            ],
            "type": "surface"
           }
          ],
          "table": [
           {
            "cells": {
             "fill": {
              "color": "#506784"
             },
             "line": {
              "color": "rgb(17,17,17)"
             }
            },
            "header": {
             "fill": {
              "color": "#2a3f5f"
             },
             "line": {
              "color": "rgb(17,17,17)"
             }
            },
            "type": "table"
           }
          ]
         },
         "layout": {
          "annotationdefaults": {
           "arrowcolor": "#f2f5fa",
           "arrowhead": 0,
           "arrowwidth": 1
          },
          "autotypenumbers": "strict",
          "coloraxis": {
           "colorbar": {
            "outlinewidth": 0,
            "ticks": ""
           }
          },
          "colorscale": {
           "diverging": [
            [
             0,
             "#8e0152"
            ],
            [
             0.1,
             "#c51b7d"
            ],
            [
             0.2,
             "#de77ae"
            ],
            [
             0.3,
             "#f1b6da"
            ],
            [
             0.4,
             "#fde0ef"
            ],
            [
             0.5,
             "#f7f7f7"
            ],
            [
             0.6,
             "#e6f5d0"
            ],
            [
             0.7,
             "#b8e186"
            ],
            [
             0.8,
             "#7fbc41"
            ],
            [
             0.9,
             "#4d9221"
            ],
            [
             1,
             "#276419"
            ]
           ],
           "sequential": [
            [
             0,
             "#0d0887"
            ],
            [
             0.1111111111111111,
             "#46039f"
            ],
            [
             0.2222222222222222,
             "#7201a8"
            ],
            [
             0.3333333333333333,
             "#9c179e"
            ],
            [
             0.4444444444444444,
             "#bd3786"
            ],
            [
             0.5555555555555556,
             "#d8576b"
            ],
            [
             0.6666666666666666,
             "#ed7953"
            ],
            [
             0.7777777777777778,
             "#fb9f3a"
            ],
            [
             0.8888888888888888,
             "#fdca26"
            ],
            [
             1,
             "#f0f921"
            ]
           ],
           "sequentialminus": [
            [
             0,
             "#0d0887"
            ],
            [
             0.1111111111111111,
             "#46039f"
            ],
            [
             0.2222222222222222,
             "#7201a8"
            ],
            [
             0.3333333333333333,
             "#9c179e"
            ],
            [
             0.4444444444444444,
             "#bd3786"
            ],
            [
             0.5555555555555556,
             "#d8576b"
            ],
            [
             0.6666666666666666,
             "#ed7953"
            ],
            [
             0.7777777777777778,
             "#fb9f3a"
            ],
            [
             0.8888888888888888,
             "#fdca26"
            ],
            [
             1,
             "#f0f921"
            ]
           ]
          },
          "colorway": [
           "#636efa",
           "#EF553B",
           "#00cc96",
           "#ab63fa",
           "#FFA15A",
           "#19d3f3",
           "#FF6692",
           "#B6E880",
           "#FF97FF",
           "#FECB52"
          ],
          "font": {
           "color": "#f2f5fa"
          },
          "geo": {
           "bgcolor": "rgb(17,17,17)",
           "lakecolor": "rgb(17,17,17)",
           "landcolor": "rgb(17,17,17)",
           "showlakes": true,
           "showland": true,
           "subunitcolor": "#506784"
          },
          "hoverlabel": {
           "align": "left"
          },
          "hovermode": "closest",
          "mapbox": {
           "style": "dark"
          },
          "paper_bgcolor": "rgb(17,17,17)",
          "plot_bgcolor": "rgb(17,17,17)",
          "polar": {
           "angularaxis": {
            "gridcolor": "#506784",
            "linecolor": "#506784",
            "ticks": ""
           },
           "bgcolor": "rgb(17,17,17)",
           "radialaxis": {
            "gridcolor": "#506784",
            "linecolor": "#506784",
            "ticks": ""
           }
          },
          "scene": {
           "xaxis": {
            "backgroundcolor": "rgb(17,17,17)",
            "gridcolor": "#506784",
            "gridwidth": 2,
            "linecolor": "#506784",
            "showbackground": true,
            "ticks": "",
            "zerolinecolor": "#C8D4E3"
           },
           "yaxis": {
            "backgroundcolor": "rgb(17,17,17)",
            "gridcolor": "#506784",
            "gridwidth": 2,
            "linecolor": "#506784",
            "showbackground": true,
            "ticks": "",
            "zerolinecolor": "#C8D4E3"
           },
           "zaxis": {
            "backgroundcolor": "rgb(17,17,17)",
            "gridcolor": "#506784",
            "gridwidth": 2,
            "linecolor": "#506784",
            "showbackground": true,
            "ticks": "",
            "zerolinecolor": "#C8D4E3"
           }
          },
          "shapedefaults": {
           "line": {
            "color": "#f2f5fa"
           }
          },
          "sliderdefaults": {
           "bgcolor": "#C8D4E3",
           "bordercolor": "rgb(17,17,17)",
           "borderwidth": 1,
           "tickwidth": 0
          },
          "ternary": {
           "aaxis": {
            "gridcolor": "#506784",
            "linecolor": "#506784",
            "ticks": ""
           },
           "baxis": {
            "gridcolor": "#506784",
            "linecolor": "#506784",
            "ticks": ""
           },
           "bgcolor": "rgb(17,17,17)",
           "caxis": {
            "gridcolor": "#506784",
            "linecolor": "#506784",
            "ticks": ""
           }
          },
          "title": {
           "x": 0.05
          },
          "updatemenudefaults": {
           "bgcolor": "#506784",
           "borderwidth": 0
          },
          "xaxis": {
           "automargin": true,
           "gridcolor": "#283442",
           "linecolor": "#506784",
           "ticks": "",
           "title": {
            "standoff": 15
           },
           "zerolinecolor": "#283442",
           "zerolinewidth": 2
          },
          "yaxis": {
           "automargin": true,
           "gridcolor": "#283442",
           "linecolor": "#506784",
           "ticks": "",
           "title": {
            "standoff": 15
           },
           "zerolinecolor": "#283442",
           "zerolinewidth": 2
          }
         }
        },
        "title": {
         "text": "Distribuição de Tamanho de Gaps"
        },
        "width": 800,
        "xaxis": {
         "anchor": "y",
         "domain": [
          0,
          1
         ],
         "title": {
          "text": "value"
         }
        },
        "yaxis": {
         "anchor": "x",
         "domain": [
          0,
          1
         ],
         "title": {
          "text": "count"
         }
        }
       }
      }
     },
     "metadata": {},
     "output_type": "display_data"
    }
   ],
   "source": [
    "import plotly.express as px\n",
    "df = pd.DataFrame(list(tamanho_gaps), columns=['Tamanho Gap'])\n",
    "fig = px.histogram(df, nbins=50, color_discrete_sequence=['teal'], title=\"Distribuição de Tamanho de Gaps\")\n",
    "\n",
    "mean = df.mean()[0]\n",
    "median = df.median()[0]\n",
    "std = df.std()[0]\n",
    "lower_std = - std\n",
    "fig.add_vline(x=mean, line_width=3, line_dash=\"solid\", line_color='turquoise', annotation_text='Mean')\n",
    "fig.add_vline(x=median, line_width=3, line_dash=\"dash\", line_color=\"wheat\",annotation_text='Median', annotation_x=-400)\n",
    "\n",
    "fig.add_vline(x=std, line_width=3, line_dash=\"solid\", line_color='red', annotation_text='1std')\n",
    "fig.add_vline(x=lower_std, line_width=3, line_dash=\"solid\", line_color='red', annotation_text='1std')\n",
    "\n",
    "fig.add_vline(x=2*std, line_width=3, line_dash=\"dash\", line_color='orange', annotation_text='2std')\n",
    "fig.add_vline(x=2*lower_std, line_width=3, line_dash=\"dash\", line_color='orange', annotation_text='2std')\n",
    "\n",
    "fig.update_layout(bargap=0.2, width=800, height=600)\n",
    "fig.update_layout(template = 'plotly_dark')\n",
    "#, annotation_x=0.8993)\n",
    "fig.show()"
   ]
  },
  {
   "cell_type": "code",
   "execution_count": 7,
   "metadata": {},
   "outputs": [
    {
     "name": "stderr",
     "output_type": "stream",
     "text": [
      "C:\\Users\\Felps\\AppData\\Local\\Temp\\ipykernel_15604\\491866821.py:1: SettingWithCopyWarning:\n",
      "\n",
      "\n",
      "A value is trying to be set on a copy of a slice from a DataFrame.\n",
      "Try using .loc[row_indexer,col_indexer] = value instead\n",
      "\n",
      "See the caveats in the documentation: https://pandas.pydata.org/pandas-docs/stable/user_guide/indexing.html#returning-a-view-versus-a-copy\n",
      "\n"
     ]
    }
   ],
   "source": [
    "gaps['Tamanho_Gap'] = gaps['<OPEN>'] - gaps['Close_Anterior']\n",
    "gap_alta = gaps[gaps['Tamanho_Gap'] > 0]\n",
    "gap_baixa = gaps[gaps['Tamanho_Gap'] < 0]"
   ]
  },
  {
   "cell_type": "code",
   "execution_count": 8,
   "metadata": {},
   "outputs": [
    {
     "data": {
      "text/plain": [
       "462"
      ]
     },
     "execution_count": 8,
     "metadata": {},
     "output_type": "execute_result"
    }
   ],
   "source": [
    "len(gaps)"
   ]
  },
  {
   "cell_type": "code",
   "execution_count": 9,
   "metadata": {},
   "outputs": [
    {
     "data": {
      "text/plain": [
       "(255, 202)"
      ]
     },
     "execution_count": 9,
     "metadata": {},
     "output_type": "execute_result"
    }
   ],
   "source": [
    "len(gap_alta), len(gap_baixa)"
   ]
  },
  {
   "cell_type": "code",
   "execution_count": 10,
   "metadata": {},
   "outputs": [
    {
     "data": {
      "text/html": [
       "<div>\n",
       "<style scoped>\n",
       "    .dataframe tbody tr th:only-of-type {\n",
       "        vertical-align: middle;\n",
       "    }\n",
       "\n",
       "    .dataframe tbody tr th {\n",
       "        vertical-align: top;\n",
       "    }\n",
       "\n",
       "    .dataframe thead th {\n",
       "        text-align: right;\n",
       "    }\n",
       "</style>\n",
       "<table border=\"1\" class=\"dataframe\">\n",
       "  <thead>\n",
       "    <tr style=\"text-align: right;\">\n",
       "      <th></th>\n",
       "      <th>Indice</th>\n",
       "      <th>Tempo_Gap</th>\n",
       "    </tr>\n",
       "  </thead>\n",
       "  <tbody>\n",
       "  </tbody>\n",
       "</table>\n",
       "</div>"
      ],
      "text/plain": [
       "Empty DataFrame\n",
       "Columns: [Indice, Tempo_Gap]\n",
       "Index: []"
      ]
     },
     "execution_count": 10,
     "metadata": {},
     "output_type": "execute_result"
    }
   ],
   "source": [
    "\n",
    "df_tamanho_gaps_alta = pd.DataFrame([], columns=['Indice', 'Tempo_Gap'])\n",
    "df_tamanho_gaps_alta\n"
   ]
  },
  {
   "cell_type": "code",
   "execution_count": 11,
   "metadata": {},
   "outputs": [],
   "source": [
    "#Percorrer a partir do índice do gap, e contar quantas linhas até fechar o gap\n",
    "for gap_index in gap_alta.index:\n",
    "    i = 0\n",
    "    for i in range(240):\n",
    "        if market_data.iloc[gap_index]['<OPEN>'] + gap_alta.loc[[gap_index]]['Tamanho_Gap'].values[0] < market_data.iloc[gap_index + i]['<HIGH>']:\n",
    "            new_row = pd.DataFrame({'Indice': gap_index, 'Tempo_Gap': i + 1}, index=[0])\n",
    "            df_tamanho_gaps_alta = pd.concat([new_row,df_tamanho_gaps_alta.loc[:]]).reset_index(drop=True)\n",
    "            break\n",
    "\n"
   ]
  },
  {
   "cell_type": "code",
   "execution_count": 12,
   "metadata": {},
   "outputs": [
    {
     "data": {
      "application/vnd.plotly.v1+json": {
       "config": {
        "plotlyServerURL": "https://plot.ly"
       },
       "data": [
        {
         "alignmentgroup": "True",
         "bingroup": "x",
         "hovertemplate": "variable=Tempo Gap<br>value=%{x}<br>count=%{y}<extra></extra>",
         "legendgroup": "Tempo Gap",
         "marker": {
          "color": "teal",
          "pattern": {
           "shape": ""
          }
         },
         "name": "Tempo Gap",
         "nbinsx": 10,
         "offsetgroup": "Tempo Gap",
         "orientation": "v",
         "showlegend": true,
         "type": "histogram",
         "x": [
          1,
          4,
          141,
          156,
          81,
          1,
          1,
          23,
          193,
          10,
          113,
          12,
          68,
          70,
          68,
          124,
          1,
          109,
          6,
          3,
          83,
          117,
          68,
          185,
          1,
          68,
          1,
          101,
          78,
          30,
          1,
          2,
          2,
          16,
          2,
          113,
          156,
          51,
          125,
          31,
          6,
          25,
          37,
          36,
          3,
          35,
          35,
          3,
          53,
          1,
          213,
          82,
          2,
          100,
          1,
          66,
          151,
          1,
          1,
          56,
          75,
          11,
          38,
          81,
          103,
          6,
          105,
          29,
          33,
          37,
          48,
          117,
          211,
          2,
          30,
          64,
          47,
          113,
          27,
          132,
          62,
          2,
          118,
          31,
          52,
          109,
          83,
          2,
          40,
          39,
          1,
          1,
          40,
          3,
          1,
          19,
          2,
          5,
          216,
          6,
          8,
          94,
          61,
          139,
          1,
          2,
          2,
          1,
          1,
          181,
          8,
          166,
          8,
          6,
          21,
          15,
          33,
          99,
          20,
          1,
          73,
          97,
          61,
          54,
          12,
          231,
          69,
          71,
          1,
          4,
          166,
          2,
          223,
          2,
          1,
          36,
          100,
          72,
          61,
          73,
          2,
          63,
          196,
          178,
          82,
          1,
          63,
          112,
          74,
          8,
          143,
          61,
          75,
          2,
          175,
          18,
          2,
          5,
          1,
          6,
          107
         ],
         "xaxis": "x",
         "yaxis": "y"
        }
       ],
       "layout": {
        "annotations": [
         {
          "showarrow": false,
          "text": "Mean",
          "x": 30,
          "xanchor": "left",
          "xref": "x",
          "y": 1,
          "yanchor": "top",
          "yref": "y domain"
         },
         {
          "showarrow": false,
          "text": "Median",
          "x": 50,
          "xanchor": "left",
          "xref": "x",
          "y": 1,
          "yanchor": "top",
          "yref": "y domain"
         },
         {
          "showarrow": false,
          "text": "1std",
          "x": 70,
          "xanchor": "left",
          "xref": "x",
          "y": 1,
          "yanchor": "top",
          "yref": "y domain"
         },
         {
          "showarrow": false,
          "text": "2std",
          "x": 118.56668459416487,
          "xanchor": "left",
          "xref": "x",
          "y": 1,
          "yanchor": "top",
          "yref": "y domain"
         }
        ],
        "bargap": 0.2,
        "barmode": "relative",
        "height": 600,
        "legend": {
         "title": {
          "text": "variable"
         },
         "tracegroupgap": 0
        },
        "shapes": [
         {
          "line": {
           "color": "turquoise",
           "dash": "solid",
           "width": 3
          },
          "type": "line",
          "x0": 56.608695652173914,
          "x1": 56.608695652173914,
          "xref": "x",
          "y0": 0,
          "y1": 1,
          "yref": "y domain"
         },
         {
          "line": {
           "color": "wheat",
           "dash": "dash",
           "width": 3
          },
          "type": "line",
          "x0": 37,
          "x1": 37,
          "xref": "x",
          "y0": 0,
          "y1": 1,
          "yref": "y domain"
         },
         {
          "line": {
           "color": "red",
           "dash": "solid",
           "width": 3
          },
          "type": "line",
          "x0": 59.283342297082434,
          "x1": 59.283342297082434,
          "xref": "x",
          "y0": 0,
          "y1": 1,
          "yref": "y domain"
         },
         {
          "line": {
           "color": "orange",
           "dash": "dash",
           "width": 3
          },
          "type": "line",
          "x0": 118.56668459416487,
          "x1": 118.56668459416487,
          "xref": "x",
          "y0": 0,
          "y1": 1,
          "yref": "y domain"
         }
        ],
        "template": {
         "data": {
          "bar": [
           {
            "error_x": {
             "color": "#f2f5fa"
            },
            "error_y": {
             "color": "#f2f5fa"
            },
            "marker": {
             "line": {
              "color": "rgb(17,17,17)",
              "width": 0.5
             },
             "pattern": {
              "fillmode": "overlay",
              "size": 10,
              "solidity": 0.2
             }
            },
            "type": "bar"
           }
          ],
          "barpolar": [
           {
            "marker": {
             "line": {
              "color": "rgb(17,17,17)",
              "width": 0.5
             },
             "pattern": {
              "fillmode": "overlay",
              "size": 10,
              "solidity": 0.2
             }
            },
            "type": "barpolar"
           }
          ],
          "carpet": [
           {
            "aaxis": {
             "endlinecolor": "#A2B1C6",
             "gridcolor": "#506784",
             "linecolor": "#506784",
             "minorgridcolor": "#506784",
             "startlinecolor": "#A2B1C6"
            },
            "baxis": {
             "endlinecolor": "#A2B1C6",
             "gridcolor": "#506784",
             "linecolor": "#506784",
             "minorgridcolor": "#506784",
             "startlinecolor": "#A2B1C6"
            },
            "type": "carpet"
           }
          ],
          "choropleth": [
           {
            "colorbar": {
             "outlinewidth": 0,
             "ticks": ""
            },
            "type": "choropleth"
           }
          ],
          "contour": [
           {
            "colorbar": {
             "outlinewidth": 0,
             "ticks": ""
            },
            "colorscale": [
             [
              0,
              "#0d0887"
             ],
             [
              0.1111111111111111,
              "#46039f"
             ],
             [
              0.2222222222222222,
              "#7201a8"
             ],
             [
              0.3333333333333333,
              "#9c179e"
             ],
             [
              0.4444444444444444,
              "#bd3786"
             ],
             [
              0.5555555555555556,
              "#d8576b"
             ],
             [
              0.6666666666666666,
              "#ed7953"
             ],
             [
              0.7777777777777778,
              "#fb9f3a"
             ],
             [
              0.8888888888888888,
              "#fdca26"
             ],
             [
              1,
              "#f0f921"
             ]
            ],
            "type": "contour"
           }
          ],
          "contourcarpet": [
           {
            "colorbar": {
             "outlinewidth": 0,
             "ticks": ""
            },
            "type": "contourcarpet"
           }
          ],
          "heatmap": [
           {
            "colorbar": {
             "outlinewidth": 0,
             "ticks": ""
            },
            "colorscale": [
             [
              0,
              "#0d0887"
             ],
             [
              0.1111111111111111,
              "#46039f"
             ],
             [
              0.2222222222222222,
              "#7201a8"
             ],
             [
              0.3333333333333333,
              "#9c179e"
             ],
             [
              0.4444444444444444,
              "#bd3786"
             ],
             [
              0.5555555555555556,
              "#d8576b"
             ],
             [
              0.6666666666666666,
              "#ed7953"
             ],
             [
              0.7777777777777778,
              "#fb9f3a"
             ],
             [
              0.8888888888888888,
              "#fdca26"
             ],
             [
              1,
              "#f0f921"
             ]
            ],
            "type": "heatmap"
           }
          ],
          "heatmapgl": [
           {
            "colorbar": {
             "outlinewidth": 0,
             "ticks": ""
            },
            "colorscale": [
             [
              0,
              "#0d0887"
             ],
             [
              0.1111111111111111,
              "#46039f"
             ],
             [
              0.2222222222222222,
              "#7201a8"
             ],
             [
              0.3333333333333333,
              "#9c179e"
             ],
             [
              0.4444444444444444,
              "#bd3786"
             ],
             [
              0.5555555555555556,
              "#d8576b"
             ],
             [
              0.6666666666666666,
              "#ed7953"
             ],
             [
              0.7777777777777778,
              "#fb9f3a"
             ],
             [
              0.8888888888888888,
              "#fdca26"
             ],
             [
              1,
              "#f0f921"
             ]
            ],
            "type": "heatmapgl"
           }
          ],
          "histogram": [
           {
            "marker": {
             "pattern": {
              "fillmode": "overlay",
              "size": 10,
              "solidity": 0.2
             }
            },
            "type": "histogram"
           }
          ],
          "histogram2d": [
           {
            "colorbar": {
             "outlinewidth": 0,
             "ticks": ""
            },
            "colorscale": [
             [
              0,
              "#0d0887"
             ],
             [
              0.1111111111111111,
              "#46039f"
             ],
             [
              0.2222222222222222,
              "#7201a8"
             ],
             [
              0.3333333333333333,
              "#9c179e"
             ],
             [
              0.4444444444444444,
              "#bd3786"
             ],
             [
              0.5555555555555556,
              "#d8576b"
             ],
             [
              0.6666666666666666,
              "#ed7953"
             ],
             [
              0.7777777777777778,
              "#fb9f3a"
             ],
             [
              0.8888888888888888,
              "#fdca26"
             ],
             [
              1,
              "#f0f921"
             ]
            ],
            "type": "histogram2d"
           }
          ],
          "histogram2dcontour": [
           {
            "colorbar": {
             "outlinewidth": 0,
             "ticks": ""
            },
            "colorscale": [
             [
              0,
              "#0d0887"
             ],
             [
              0.1111111111111111,
              "#46039f"
             ],
             [
              0.2222222222222222,
              "#7201a8"
             ],
             [
              0.3333333333333333,
              "#9c179e"
             ],
             [
              0.4444444444444444,
              "#bd3786"
             ],
             [
              0.5555555555555556,
              "#d8576b"
             ],
             [
              0.6666666666666666,
              "#ed7953"
             ],
             [
              0.7777777777777778,
              "#fb9f3a"
             ],
             [
              0.8888888888888888,
              "#fdca26"
             ],
             [
              1,
              "#f0f921"
             ]
            ],
            "type": "histogram2dcontour"
           }
          ],
          "mesh3d": [
           {
            "colorbar": {
             "outlinewidth": 0,
             "ticks": ""
            },
            "type": "mesh3d"
           }
          ],
          "parcoords": [
           {
            "line": {
             "colorbar": {
              "outlinewidth": 0,
              "ticks": ""
             }
            },
            "type": "parcoords"
           }
          ],
          "pie": [
           {
            "automargin": true,
            "type": "pie"
           }
          ],
          "scatter": [
           {
            "marker": {
             "line": {
              "color": "#283442"
             }
            },
            "type": "scatter"
           }
          ],
          "scatter3d": [
           {
            "line": {
             "colorbar": {
              "outlinewidth": 0,
              "ticks": ""
             }
            },
            "marker": {
             "colorbar": {
              "outlinewidth": 0,
              "ticks": ""
             }
            },
            "type": "scatter3d"
           }
          ],
          "scattercarpet": [
           {
            "marker": {
             "colorbar": {
              "outlinewidth": 0,
              "ticks": ""
             }
            },
            "type": "scattercarpet"
           }
          ],
          "scattergeo": [
           {
            "marker": {
             "colorbar": {
              "outlinewidth": 0,
              "ticks": ""
             }
            },
            "type": "scattergeo"
           }
          ],
          "scattergl": [
           {
            "marker": {
             "line": {
              "color": "#283442"
             }
            },
            "type": "scattergl"
           }
          ],
          "scattermapbox": [
           {
            "marker": {
             "colorbar": {
              "outlinewidth": 0,
              "ticks": ""
             }
            },
            "type": "scattermapbox"
           }
          ],
          "scatterpolar": [
           {
            "marker": {
             "colorbar": {
              "outlinewidth": 0,
              "ticks": ""
             }
            },
            "type": "scatterpolar"
           }
          ],
          "scatterpolargl": [
           {
            "marker": {
             "colorbar": {
              "outlinewidth": 0,
              "ticks": ""
             }
            },
            "type": "scatterpolargl"
           }
          ],
          "scatterternary": [
           {
            "marker": {
             "colorbar": {
              "outlinewidth": 0,
              "ticks": ""
             }
            },
            "type": "scatterternary"
           }
          ],
          "surface": [
           {
            "colorbar": {
             "outlinewidth": 0,
             "ticks": ""
            },
            "colorscale": [
             [
              0,
              "#0d0887"
             ],
             [
              0.1111111111111111,
              "#46039f"
             ],
             [
              0.2222222222222222,
              "#7201a8"
             ],
             [
              0.3333333333333333,
              "#9c179e"
             ],
             [
              0.4444444444444444,
              "#bd3786"
             ],
             [
              0.5555555555555556,
              "#d8576b"
             ],
             [
              0.6666666666666666,
              "#ed7953"
             ],
             [
              0.7777777777777778,
              "#fb9f3a"
             ],
             [
              0.8888888888888888,
              "#fdca26"
             ],
             [
              1,
              "#f0f921"
             ]
            ],
            "type": "surface"
           }
          ],
          "table": [
           {
            "cells": {
             "fill": {
              "color": "#506784"
             },
             "line": {
              "color": "rgb(17,17,17)"
             }
            },
            "header": {
             "fill": {
              "color": "#2a3f5f"
             },
             "line": {
              "color": "rgb(17,17,17)"
             }
            },
            "type": "table"
           }
          ]
         },
         "layout": {
          "annotationdefaults": {
           "arrowcolor": "#f2f5fa",
           "arrowhead": 0,
           "arrowwidth": 1
          },
          "autotypenumbers": "strict",
          "coloraxis": {
           "colorbar": {
            "outlinewidth": 0,
            "ticks": ""
           }
          },
          "colorscale": {
           "diverging": [
            [
             0,
             "#8e0152"
            ],
            [
             0.1,
             "#c51b7d"
            ],
            [
             0.2,
             "#de77ae"
            ],
            [
             0.3,
             "#f1b6da"
            ],
            [
             0.4,
             "#fde0ef"
            ],
            [
             0.5,
             "#f7f7f7"
            ],
            [
             0.6,
             "#e6f5d0"
            ],
            [
             0.7,
             "#b8e186"
            ],
            [
             0.8,
             "#7fbc41"
            ],
            [
             0.9,
             "#4d9221"
            ],
            [
             1,
             "#276419"
            ]
           ],
           "sequential": [
            [
             0,
             "#0d0887"
            ],
            [
             0.1111111111111111,
             "#46039f"
            ],
            [
             0.2222222222222222,
             "#7201a8"
            ],
            [
             0.3333333333333333,
             "#9c179e"
            ],
            [
             0.4444444444444444,
             "#bd3786"
            ],
            [
             0.5555555555555556,
             "#d8576b"
            ],
            [
             0.6666666666666666,
             "#ed7953"
            ],
            [
             0.7777777777777778,
             "#fb9f3a"
            ],
            [
             0.8888888888888888,
             "#fdca26"
            ],
            [
             1,
             "#f0f921"
            ]
           ],
           "sequentialminus": [
            [
             0,
             "#0d0887"
            ],
            [
             0.1111111111111111,
             "#46039f"
            ],
            [
             0.2222222222222222,
             "#7201a8"
            ],
            [
             0.3333333333333333,
             "#9c179e"
            ],
            [
             0.4444444444444444,
             "#bd3786"
            ],
            [
             0.5555555555555556,
             "#d8576b"
            ],
            [
             0.6666666666666666,
             "#ed7953"
            ],
            [
             0.7777777777777778,
             "#fb9f3a"
            ],
            [
             0.8888888888888888,
             "#fdca26"
            ],
            [
             1,
             "#f0f921"
            ]
           ]
          },
          "colorway": [
           "#636efa",
           "#EF553B",
           "#00cc96",
           "#ab63fa",
           "#FFA15A",
           "#19d3f3",
           "#FF6692",
           "#B6E880",
           "#FF97FF",
           "#FECB52"
          ],
          "font": {
           "color": "#f2f5fa"
          },
          "geo": {
           "bgcolor": "rgb(17,17,17)",
           "lakecolor": "rgb(17,17,17)",
           "landcolor": "rgb(17,17,17)",
           "showlakes": true,
           "showland": true,
           "subunitcolor": "#506784"
          },
          "hoverlabel": {
           "align": "left"
          },
          "hovermode": "closest",
          "mapbox": {
           "style": "dark"
          },
          "paper_bgcolor": "rgb(17,17,17)",
          "plot_bgcolor": "rgb(17,17,17)",
          "polar": {
           "angularaxis": {
            "gridcolor": "#506784",
            "linecolor": "#506784",
            "ticks": ""
           },
           "bgcolor": "rgb(17,17,17)",
           "radialaxis": {
            "gridcolor": "#506784",
            "linecolor": "#506784",
            "ticks": ""
           }
          },
          "scene": {
           "xaxis": {
            "backgroundcolor": "rgb(17,17,17)",
            "gridcolor": "#506784",
            "gridwidth": 2,
            "linecolor": "#506784",
            "showbackground": true,
            "ticks": "",
            "zerolinecolor": "#C8D4E3"
           },
           "yaxis": {
            "backgroundcolor": "rgb(17,17,17)",
            "gridcolor": "#506784",
            "gridwidth": 2,
            "linecolor": "#506784",
            "showbackground": true,
            "ticks": "",
            "zerolinecolor": "#C8D4E3"
           },
           "zaxis": {
            "backgroundcolor": "rgb(17,17,17)",
            "gridcolor": "#506784",
            "gridwidth": 2,
            "linecolor": "#506784",
            "showbackground": true,
            "ticks": "",
            "zerolinecolor": "#C8D4E3"
           }
          },
          "shapedefaults": {
           "line": {
            "color": "#f2f5fa"
           }
          },
          "sliderdefaults": {
           "bgcolor": "#C8D4E3",
           "bordercolor": "rgb(17,17,17)",
           "borderwidth": 1,
           "tickwidth": 0
          },
          "ternary": {
           "aaxis": {
            "gridcolor": "#506784",
            "linecolor": "#506784",
            "ticks": ""
           },
           "baxis": {
            "gridcolor": "#506784",
            "linecolor": "#506784",
            "ticks": ""
           },
           "bgcolor": "rgb(17,17,17)",
           "caxis": {
            "gridcolor": "#506784",
            "linecolor": "#506784",
            "ticks": ""
           }
          },
          "title": {
           "x": 0.05
          },
          "updatemenudefaults": {
           "bgcolor": "#506784",
           "borderwidth": 0
          },
          "xaxis": {
           "automargin": true,
           "gridcolor": "#283442",
           "linecolor": "#506784",
           "ticks": "",
           "title": {
            "standoff": 15
           },
           "zerolinecolor": "#283442",
           "zerolinewidth": 2
          },
          "yaxis": {
           "automargin": true,
           "gridcolor": "#283442",
           "linecolor": "#506784",
           "ticks": "",
           "title": {
            "standoff": 15
           },
           "zerolinecolor": "#283442",
           "zerolinewidth": 2
          }
         }
        },
        "title": {
         "text": "Distribuição de Tempo de Gaps Alta"
        },
        "width": 800,
        "xaxis": {
         "anchor": "y",
         "domain": [
          0,
          1
         ],
         "title": {
          "text": "value"
         }
        },
        "yaxis": {
         "anchor": "x",
         "domain": [
          0,
          1
         ],
         "title": {
          "text": "count"
         }
        }
       }
      }
     },
     "metadata": {},
     "output_type": "display_data"
    }
   ],
   "source": [
    "df = pd.DataFrame(list(df_tamanho_gaps_alta['Tempo_Gap']), columns=['Tempo Gap'])\n",
    "fig = px.histogram(df, nbins=10, color_discrete_sequence=['teal'], title=\"Distribuição de Tempo de Gaps Alta\")\n",
    "\n",
    "mean = df.mean()[0]\n",
    "median = df.median()[0]\n",
    "std = df.std()[0]\n",
    "lower_std = - std\n",
    "fig.add_vline(x=mean, line_width=3, line_dash=\"solid\", line_color='turquoise', annotation_text='Mean', annotation_x= 30)\n",
    "fig.add_vline(x=median, line_width=3, line_dash=\"dash\", line_color=\"wheat\",annotation_text='Median', annotation_x= 50)\n",
    "\n",
    "fig.add_vline(x=std, line_width=3, line_dash=\"solid\", line_color='red', annotation_text='1std', annotation_x= 70)\n",
    "#fig.add_vline(x=lower_std, line_width=3, line_dash=\"solid\", line_color='red', annotation_text='1std')\n",
    "\n",
    "fig.add_vline(x=2*std, line_width=3, line_dash=\"dash\", line_color='orange', annotation_text='2std')\n",
    "#fig.add_vline(x=2*lower_std, line_width=3, line_dash=\"dash\", line_color='orange', annotation_text='2std')\n",
    "\n",
    "fig.update_layout(bargap=0.2, width=800, height=600)\n",
    "fig.update_layout(template = 'plotly_dark')\n",
    "#, annotation_x=0.8993)\n",
    "fig.show()"
   ]
  },
  {
   "cell_type": "code",
   "execution_count": 13,
   "metadata": {},
   "outputs": [
    {
     "data": {
      "application/vnd.plotly.v1+json": {
       "config": {
        "plotlyServerURL": "https://plot.ly"
       },
       "data": [
        {
         "alignmentgroup": "True",
         "bingroup": "x",
         "hovertemplate": "variable=Tempo Gap<br>value=%{x}<br>count=%{y}<extra></extra>",
         "legendgroup": "Tempo Gap",
         "marker": {
          "color": "teal",
          "pattern": {
           "shape": ""
          }
         },
         "name": "Tempo Gap",
         "nbinsx": 15,
         "offsetgroup": "Tempo Gap",
         "orientation": "v",
         "showlegend": true,
         "type": "histogram",
         "x": [
          6,
          31,
          8,
          1,
          4,
          121,
          33,
          3,
          1,
          194,
          8,
          234,
          222,
          1,
          31,
          79,
          30,
          183,
          184,
          56,
          6,
          1,
          31,
          2,
          1,
          167,
          115,
          232,
          2,
          24,
          4,
          17,
          111,
          117,
          64,
          136,
          39,
          27,
          2,
          93,
          9,
          1,
          9,
          1,
          2,
          3,
          4,
          2,
          175,
          41,
          166,
          123,
          3,
          1,
          22,
          28,
          1,
          49,
          1,
          1,
          20,
          93,
          134,
          5,
          6,
          62,
          144,
          65,
          44,
          1,
          1,
          1,
          2,
          1,
          99,
          61,
          86,
          92,
          2,
          68,
          61,
          39,
          15,
          136,
          60,
          3,
          7,
          59,
          93,
          4,
          4,
          105,
          4,
          91,
          32,
          1,
          13,
          32,
          95,
          1,
          100,
          11,
          1,
          2,
          1,
          12,
          2,
          3,
          66,
          2,
          13,
          8,
          61,
          34,
          2,
          239,
          1,
          27,
          120,
          4,
          46,
          40,
          5,
          1,
          2,
          1,
          6,
          239,
          1,
          3,
          9,
          6,
          46,
          67,
          32,
          96,
          5,
          79,
          155,
          21,
          237,
          230,
          142,
          24,
          13,
          53,
          62,
          14,
          8,
          2,
          65,
          1,
          12
         ],
         "xaxis": "x",
         "yaxis": "y"
        }
       ],
       "layout": {
        "annotations": [
         {
          "showarrow": false,
          "text": "Mean",
          "x": 49.26143790849673,
          "xanchor": "left",
          "xref": "x",
          "y": 1,
          "yanchor": "top",
          "yref": "y domain"
         },
         {
          "showarrow": false,
          "text": "Median",
          "x": 21,
          "xanchor": "left",
          "xref": "x",
          "y": 1,
          "yanchor": "top",
          "yref": "y domain"
         },
         {
          "showarrow": false,
          "text": "1std",
          "x": 63.09618505877711,
          "xanchor": "left",
          "xref": "x",
          "y": 1,
          "yanchor": "top",
          "yref": "y domain"
         },
         {
          "showarrow": false,
          "text": "2std",
          "x": 126.19237011755422,
          "xanchor": "left",
          "xref": "x",
          "y": 1,
          "yanchor": "top",
          "yref": "y domain"
         }
        ],
        "bargap": 0.2,
        "barmode": "relative",
        "height": 600,
        "legend": {
         "title": {
          "text": "variable"
         },
         "tracegroupgap": 0
        },
        "shapes": [
         {
          "line": {
           "color": "turquoise",
           "dash": "solid",
           "width": 3
          },
          "type": "line",
          "x0": 49.26143790849673,
          "x1": 49.26143790849673,
          "xref": "x",
          "y0": 0,
          "y1": 1,
          "yref": "y domain"
         },
         {
          "line": {
           "color": "wheat",
           "dash": "dash",
           "width": 3
          },
          "type": "line",
          "x0": 21,
          "x1": 21,
          "xref": "x",
          "y0": 0,
          "y1": 1,
          "yref": "y domain"
         },
         {
          "line": {
           "color": "red",
           "dash": "solid",
           "width": 3
          },
          "type": "line",
          "x0": 63.09618505877711,
          "x1": 63.09618505877711,
          "xref": "x",
          "y0": 0,
          "y1": 1,
          "yref": "y domain"
         },
         {
          "line": {
           "color": "orange",
           "dash": "dash",
           "width": 3
          },
          "type": "line",
          "x0": 126.19237011755422,
          "x1": 126.19237011755422,
          "xref": "x",
          "y0": 0,
          "y1": 1,
          "yref": "y domain"
         }
        ],
        "template": {
         "data": {
          "bar": [
           {
            "error_x": {
             "color": "#f2f5fa"
            },
            "error_y": {
             "color": "#f2f5fa"
            },
            "marker": {
             "line": {
              "color": "rgb(17,17,17)",
              "width": 0.5
             },
             "pattern": {
              "fillmode": "overlay",
              "size": 10,
              "solidity": 0.2
             }
            },
            "type": "bar"
           }
          ],
          "barpolar": [
           {
            "marker": {
             "line": {
              "color": "rgb(17,17,17)",
              "width": 0.5
             },
             "pattern": {
              "fillmode": "overlay",
              "size": 10,
              "solidity": 0.2
             }
            },
            "type": "barpolar"
           }
          ],
          "carpet": [
           {
            "aaxis": {
             "endlinecolor": "#A2B1C6",
             "gridcolor": "#506784",
             "linecolor": "#506784",
             "minorgridcolor": "#506784",
             "startlinecolor": "#A2B1C6"
            },
            "baxis": {
             "endlinecolor": "#A2B1C6",
             "gridcolor": "#506784",
             "linecolor": "#506784",
             "minorgridcolor": "#506784",
             "startlinecolor": "#A2B1C6"
            },
            "type": "carpet"
           }
          ],
          "choropleth": [
           {
            "colorbar": {
             "outlinewidth": 0,
             "ticks": ""
            },
            "type": "choropleth"
           }
          ],
          "contour": [
           {
            "colorbar": {
             "outlinewidth": 0,
             "ticks": ""
            },
            "colorscale": [
             [
              0,
              "#0d0887"
             ],
             [
              0.1111111111111111,
              "#46039f"
             ],
             [
              0.2222222222222222,
              "#7201a8"
             ],
             [
              0.3333333333333333,
              "#9c179e"
             ],
             [
              0.4444444444444444,
              "#bd3786"
             ],
             [
              0.5555555555555556,
              "#d8576b"
             ],
             [
              0.6666666666666666,
              "#ed7953"
             ],
             [
              0.7777777777777778,
              "#fb9f3a"
             ],
             [
              0.8888888888888888,
              "#fdca26"
             ],
             [
              1,
              "#f0f921"
             ]
            ],
            "type": "contour"
           }
          ],
          "contourcarpet": [
           {
            "colorbar": {
             "outlinewidth": 0,
             "ticks": ""
            },
            "type": "contourcarpet"
           }
          ],
          "heatmap": [
           {
            "colorbar": {
             "outlinewidth": 0,
             "ticks": ""
            },
            "colorscale": [
             [
              0,
              "#0d0887"
             ],
             [
              0.1111111111111111,
              "#46039f"
             ],
             [
              0.2222222222222222,
              "#7201a8"
             ],
             [
              0.3333333333333333,
              "#9c179e"
             ],
             [
              0.4444444444444444,
              "#bd3786"
             ],
             [
              0.5555555555555556,
              "#d8576b"
             ],
             [
              0.6666666666666666,
              "#ed7953"
             ],
             [
              0.7777777777777778,
              "#fb9f3a"
             ],
             [
              0.8888888888888888,
              "#fdca26"
             ],
             [
              1,
              "#f0f921"
             ]
            ],
            "type": "heatmap"
           }
          ],
          "heatmapgl": [
           {
            "colorbar": {
             "outlinewidth": 0,
             "ticks": ""
            },
            "colorscale": [
             [
              0,
              "#0d0887"
             ],
             [
              0.1111111111111111,
              "#46039f"
             ],
             [
              0.2222222222222222,
              "#7201a8"
             ],
             [
              0.3333333333333333,
              "#9c179e"
             ],
             [
              0.4444444444444444,
              "#bd3786"
             ],
             [
              0.5555555555555556,
              "#d8576b"
             ],
             [
              0.6666666666666666,
              "#ed7953"
             ],
             [
              0.7777777777777778,
              "#fb9f3a"
             ],
             [
              0.8888888888888888,
              "#fdca26"
             ],
             [
              1,
              "#f0f921"
             ]
            ],
            "type": "heatmapgl"
           }
          ],
          "histogram": [
           {
            "marker": {
             "pattern": {
              "fillmode": "overlay",
              "size": 10,
              "solidity": 0.2
             }
            },
            "type": "histogram"
           }
          ],
          "histogram2d": [
           {
            "colorbar": {
             "outlinewidth": 0,
             "ticks": ""
            },
            "colorscale": [
             [
              0,
              "#0d0887"
             ],
             [
              0.1111111111111111,
              "#46039f"
             ],
             [
              0.2222222222222222,
              "#7201a8"
             ],
             [
              0.3333333333333333,
              "#9c179e"
             ],
             [
              0.4444444444444444,
              "#bd3786"
             ],
             [
              0.5555555555555556,
              "#d8576b"
             ],
             [
              0.6666666666666666,
              "#ed7953"
             ],
             [
              0.7777777777777778,
              "#fb9f3a"
             ],
             [
              0.8888888888888888,
              "#fdca26"
             ],
             [
              1,
              "#f0f921"
             ]
            ],
            "type": "histogram2d"
           }
          ],
          "histogram2dcontour": [
           {
            "colorbar": {
             "outlinewidth": 0,
             "ticks": ""
            },
            "colorscale": [
             [
              0,
              "#0d0887"
             ],
             [
              0.1111111111111111,
              "#46039f"
             ],
             [
              0.2222222222222222,
              "#7201a8"
             ],
             [
              0.3333333333333333,
              "#9c179e"
             ],
             [
              0.4444444444444444,
              "#bd3786"
             ],
             [
              0.5555555555555556,
              "#d8576b"
             ],
             [
              0.6666666666666666,
              "#ed7953"
             ],
             [
              0.7777777777777778,
              "#fb9f3a"
             ],
             [
              0.8888888888888888,
              "#fdca26"
             ],
             [
              1,
              "#f0f921"
             ]
            ],
            "type": "histogram2dcontour"
           }
          ],
          "mesh3d": [
           {
            "colorbar": {
             "outlinewidth": 0,
             "ticks": ""
            },
            "type": "mesh3d"
           }
          ],
          "parcoords": [
           {
            "line": {
             "colorbar": {
              "outlinewidth": 0,
              "ticks": ""
             }
            },
            "type": "parcoords"
           }
          ],
          "pie": [
           {
            "automargin": true,
            "type": "pie"
           }
          ],
          "scatter": [
           {
            "marker": {
             "line": {
              "color": "#283442"
             }
            },
            "type": "scatter"
           }
          ],
          "scatter3d": [
           {
            "line": {
             "colorbar": {
              "outlinewidth": 0,
              "ticks": ""
             }
            },
            "marker": {
             "colorbar": {
              "outlinewidth": 0,
              "ticks": ""
             }
            },
            "type": "scatter3d"
           }
          ],
          "scattercarpet": [
           {
            "marker": {
             "colorbar": {
              "outlinewidth": 0,
              "ticks": ""
             }
            },
            "type": "scattercarpet"
           }
          ],
          "scattergeo": [
           {
            "marker": {
             "colorbar": {
              "outlinewidth": 0,
              "ticks": ""
             }
            },
            "type": "scattergeo"
           }
          ],
          "scattergl": [
           {
            "marker": {
             "line": {
              "color": "#283442"
             }
            },
            "type": "scattergl"
           }
          ],
          "scattermapbox": [
           {
            "marker": {
             "colorbar": {
              "outlinewidth": 0,
              "ticks": ""
             }
            },
            "type": "scattermapbox"
           }
          ],
          "scatterpolar": [
           {
            "marker": {
             "colorbar": {
              "outlinewidth": 0,
              "ticks": ""
             }
            },
            "type": "scatterpolar"
           }
          ],
          "scatterpolargl": [
           {
            "marker": {
             "colorbar": {
              "outlinewidth": 0,
              "ticks": ""
             }
            },
            "type": "scatterpolargl"
           }
          ],
          "scatterternary": [
           {
            "marker": {
             "colorbar": {
              "outlinewidth": 0,
              "ticks": ""
             }
            },
            "type": "scatterternary"
           }
          ],
          "surface": [
           {
            "colorbar": {
             "outlinewidth": 0,
             "ticks": ""
            },
            "colorscale": [
             [
              0,
              "#0d0887"
             ],
             [
              0.1111111111111111,
              "#46039f"
             ],
             [
              0.2222222222222222,
              "#7201a8"
             ],
             [
              0.3333333333333333,
              "#9c179e"
             ],
             [
              0.4444444444444444,
              "#bd3786"
             ],
             [
              0.5555555555555556,
              "#d8576b"
             ],
             [
              0.6666666666666666,
              "#ed7953"
             ],
             [
              0.7777777777777778,
              "#fb9f3a"
             ],
             [
              0.8888888888888888,
              "#fdca26"
             ],
             [
              1,
              "#f0f921"
             ]
            ],
            "type": "surface"
           }
          ],
          "table": [
           {
            "cells": {
             "fill": {
              "color": "#506784"
             },
             "line": {
              "color": "rgb(17,17,17)"
             }
            },
            "header": {
             "fill": {
              "color": "#2a3f5f"
             },
             "line": {
              "color": "rgb(17,17,17)"
             }
            },
            "type": "table"
           }
          ]
         },
         "layout": {
          "annotationdefaults": {
           "arrowcolor": "#f2f5fa",
           "arrowhead": 0,
           "arrowwidth": 1
          },
          "autotypenumbers": "strict",
          "coloraxis": {
           "colorbar": {
            "outlinewidth": 0,
            "ticks": ""
           }
          },
          "colorscale": {
           "diverging": [
            [
             0,
             "#8e0152"
            ],
            [
             0.1,
             "#c51b7d"
            ],
            [
             0.2,
             "#de77ae"
            ],
            [
             0.3,
             "#f1b6da"
            ],
            [
             0.4,
             "#fde0ef"
            ],
            [
             0.5,
             "#f7f7f7"
            ],
            [
             0.6,
             "#e6f5d0"
            ],
            [
             0.7,
             "#b8e186"
            ],
            [
             0.8,
             "#7fbc41"
            ],
            [
             0.9,
             "#4d9221"
            ],
            [
             1,
             "#276419"
            ]
           ],
           "sequential": [
            [
             0,
             "#0d0887"
            ],
            [
             0.1111111111111111,
             "#46039f"
            ],
            [
             0.2222222222222222,
             "#7201a8"
            ],
            [
             0.3333333333333333,
             "#9c179e"
            ],
            [
             0.4444444444444444,
             "#bd3786"
            ],
            [
             0.5555555555555556,
             "#d8576b"
            ],
            [
             0.6666666666666666,
             "#ed7953"
            ],
            [
             0.7777777777777778,
             "#fb9f3a"
            ],
            [
             0.8888888888888888,
             "#fdca26"
            ],
            [
             1,
             "#f0f921"
            ]
           ],
           "sequentialminus": [
            [
             0,
             "#0d0887"
            ],
            [
             0.1111111111111111,
             "#46039f"
            ],
            [
             0.2222222222222222,
             "#7201a8"
            ],
            [
             0.3333333333333333,
             "#9c179e"
            ],
            [
             0.4444444444444444,
             "#bd3786"
            ],
            [
             0.5555555555555556,
             "#d8576b"
            ],
            [
             0.6666666666666666,
             "#ed7953"
            ],
            [
             0.7777777777777778,
             "#fb9f3a"
            ],
            [
             0.8888888888888888,
             "#fdca26"
            ],
            [
             1,
             "#f0f921"
            ]
           ]
          },
          "colorway": [
           "#636efa",
           "#EF553B",
           "#00cc96",
           "#ab63fa",
           "#FFA15A",
           "#19d3f3",
           "#FF6692",
           "#B6E880",
           "#FF97FF",
           "#FECB52"
          ],
          "font": {
           "color": "#f2f5fa"
          },
          "geo": {
           "bgcolor": "rgb(17,17,17)",
           "lakecolor": "rgb(17,17,17)",
           "landcolor": "rgb(17,17,17)",
           "showlakes": true,
           "showland": true,
           "subunitcolor": "#506784"
          },
          "hoverlabel": {
           "align": "left"
          },
          "hovermode": "closest",
          "mapbox": {
           "style": "dark"
          },
          "paper_bgcolor": "rgb(17,17,17)",
          "plot_bgcolor": "rgb(17,17,17)",
          "polar": {
           "angularaxis": {
            "gridcolor": "#506784",
            "linecolor": "#506784",
            "ticks": ""
           },
           "bgcolor": "rgb(17,17,17)",
           "radialaxis": {
            "gridcolor": "#506784",
            "linecolor": "#506784",
            "ticks": ""
           }
          },
          "scene": {
           "xaxis": {
            "backgroundcolor": "rgb(17,17,17)",
            "gridcolor": "#506784",
            "gridwidth": 2,
            "linecolor": "#506784",
            "showbackground": true,
            "ticks": "",
            "zerolinecolor": "#C8D4E3"
           },
           "yaxis": {
            "backgroundcolor": "rgb(17,17,17)",
            "gridcolor": "#506784",
            "gridwidth": 2,
            "linecolor": "#506784",
            "showbackground": true,
            "ticks": "",
            "zerolinecolor": "#C8D4E3"
           },
           "zaxis": {
            "backgroundcolor": "rgb(17,17,17)",
            "gridcolor": "#506784",
            "gridwidth": 2,
            "linecolor": "#506784",
            "showbackground": true,
            "ticks": "",
            "zerolinecolor": "#C8D4E3"
           }
          },
          "shapedefaults": {
           "line": {
            "color": "#f2f5fa"
           }
          },
          "sliderdefaults": {
           "bgcolor": "#C8D4E3",
           "bordercolor": "rgb(17,17,17)",
           "borderwidth": 1,
           "tickwidth": 0
          },
          "ternary": {
           "aaxis": {
            "gridcolor": "#506784",
            "linecolor": "#506784",
            "ticks": ""
           },
           "baxis": {
            "gridcolor": "#506784",
            "linecolor": "#506784",
            "ticks": ""
           },
           "bgcolor": "rgb(17,17,17)",
           "caxis": {
            "gridcolor": "#506784",
            "linecolor": "#506784",
            "ticks": ""
           }
          },
          "title": {
           "x": 0.05
          },
          "updatemenudefaults": {
           "bgcolor": "#506784",
           "borderwidth": 0
          },
          "xaxis": {
           "automargin": true,
           "gridcolor": "#283442",
           "linecolor": "#506784",
           "ticks": "",
           "title": {
            "standoff": 15
           },
           "zerolinecolor": "#283442",
           "zerolinewidth": 2
          },
          "yaxis": {
           "automargin": true,
           "gridcolor": "#283442",
           "linecolor": "#506784",
           "ticks": "",
           "title": {
            "standoff": 15
           },
           "zerolinecolor": "#283442",
           "zerolinewidth": 2
          }
         }
        },
        "title": {
         "text": "Distribuição de Tempo de Gaps Baixa"
        },
        "width": 800,
        "xaxis": {
         "anchor": "y",
         "domain": [
          0,
          1
         ],
         "title": {
          "text": "value"
         }
        },
        "yaxis": {
         "anchor": "x",
         "domain": [
          0,
          1
         ],
         "title": {
          "text": "count"
         }
        }
       }
      }
     },
     "metadata": {},
     "output_type": "display_data"
    }
   ],
   "source": [
    "df_tamanho_gaps_baixa = pd.DataFrame([], columns=['Indice', 'Tempo_Gap'])\n",
    "#Percorrer a partir do índice do gap, e contar quantas linhas até fechar o gap\n",
    "for gap_index in gap_alta.index:\n",
    "    i = 0\n",
    "    for i in range(240):\n",
    "        if market_data.iloc[gap_index]['<OPEN>'] - gap_alta.loc[[gap_index]]['Tamanho_Gap'].values[0] > market_data.iloc[gap_index + i]['<LOW>']:\n",
    "            new_row = pd.DataFrame({'Indice': gap_index, 'Tempo_Gap': i + 1}, index=[0])\n",
    "            df_tamanho_gaps_baixa = pd.concat([new_row,df_tamanho_gaps_baixa.loc[:]]).reset_index(drop=True)\n",
    "            break\n",
    "        \n",
    "df = pd.DataFrame(list(df_tamanho_gaps_baixa['Tempo_Gap']), columns=['Tempo Gap'])\n",
    "fig = px.histogram(df, nbins=15, color_discrete_sequence=['teal'], title=\"Distribuição de Tempo de Gaps Baixa\")\n",
    "\n",
    "mean = df.mean()[0]\n",
    "median = df.median()[0]\n",
    "std = df.std()[0]\n",
    "lower_std = - std\n",
    "fig.add_vline(x=mean, line_width=3, line_dash=\"solid\", line_color='turquoise', annotation_text='Mean', )\n",
    "fig.add_vline(x=median, line_width=3, line_dash=\"dash\", line_color=\"wheat\",annotation_text='Median', )\n",
    "\n",
    "fig.add_vline(x=std, line_width=3, line_dash=\"solid\", line_color='red', annotation_text='1std', )\n",
    "#fig.add_vline(x=lower_std, line_width=3, line_dash=\"solid\", line_color='red', annotation_text='1std')\n",
    "\n",
    "fig.add_vline(x=2*std, line_width=3, line_dash=\"dash\", line_color='orange', annotation_text='2std')\n",
    "#fig.add_vline(x=2*lower_std, line_width=3, line_dash=\"dash\", line_color='orange', annotation_text='2std')\n",
    "\n",
    "fig.update_layout(bargap=0.2, width=800, height=600)\n",
    "fig.update_layout(template = 'plotly_dark')\n",
    "#, annotation_x=0.8993)\n",
    "fig.show()"
   ]
  },
  {
   "attachments": {},
   "cell_type": "markdown",
   "metadata": {},
   "source": [
    "### Gerando Target"
   ]
  },
  {
   "cell_type": "code",
   "execution_count": 14,
   "metadata": {},
   "outputs": [],
   "source": [
    "gaps_alta_e_baixa = list(gap_alta.index) + list(gap_baixa.index)"
   ]
  },
  {
   "cell_type": "code",
   "execution_count": 15,
   "metadata": {},
   "outputs": [
    {
     "data": {
      "text/plain": [
       "(255, 202)"
      ]
     },
     "execution_count": 15,
     "metadata": {},
     "output_type": "execute_result"
    }
   ],
   "source": [
    "len(list(gap_alta.index)), len(list(gap_baixa.index))"
   ]
  },
  {
   "cell_type": "code",
   "execution_count": 16,
   "metadata": {},
   "outputs": [
    {
     "data": {
      "text/plain": [
       "457"
      ]
     },
     "execution_count": 16,
     "metadata": {},
     "output_type": "execute_result"
    }
   ],
   "source": [
    "len(list(gap_alta.index)) + len(list(gap_baixa.index))"
   ]
  },
  {
   "cell_type": "code",
   "execution_count": 17,
   "metadata": {},
   "outputs": [],
   "source": [
    "for i in list(gap_alta.index):\n",
    "    if i in list(gap_baixa.index):\n",
    "        print(i)"
   ]
  },
  {
   "cell_type": "code",
   "execution_count": 18,
   "metadata": {},
   "outputs": [],
   "source": [
    "target_index_gap_baixa = list(df_tamanho_gaps_baixa[df_tamanho_gaps_baixa['Tempo_Gap'] < 40]['Indice'])"
   ]
  },
  {
   "cell_type": "code",
   "execution_count": 19,
   "metadata": {},
   "outputs": [],
   "source": [
    "df_tamanho_gaps_alta = df_tamanho_gaps_alta.set_index(['Indice'])\n",
    "df_tamanho_gaps_baixa = df_tamanho_gaps_baixa.set_index(['Indice'])"
   ]
  },
  {
   "cell_type": "code",
   "execution_count": 20,
   "metadata": {},
   "outputs": [
    {
     "name": "stderr",
     "output_type": "stream",
     "text": [
      "C:\\Users\\Felps\\AppData\\Local\\Temp\\ipykernel_15604\\3600349542.py:1: FutureWarning:\n",
      "\n",
      "The frame.append method is deprecated and will be removed from pandas in a future version. Use pandas.concat instead.\n",
      "\n"
     ]
    }
   ],
   "source": [
    "gaps = gaps.join(df_tamanho_gaps_alta.append(df_tamanho_gaps_baixa), how='outer')\n"
   ]
  },
  {
   "cell_type": "code",
   "execution_count": 21,
   "metadata": {},
   "outputs": [],
   "source": [
    "gaps.drop_duplicates(inplace=True, keep= 'last',subset = ['<DATE>'])"
   ]
  },
  {
   "cell_type": "code",
   "execution_count": 22,
   "metadata": {},
   "outputs": [],
   "source": [
    "gaps['Tempo_Gap'].fillna(1234567891011, inplace=True)"
   ]
  },
  {
   "cell_type": "code",
   "execution_count": 23,
   "metadata": {},
   "outputs": [],
   "source": [
    "gaps_alta = gaps.query('Tamanho_Gap < 750 & Tempo_Gap != 1234567891011 & Tempo_Gap < 40')"
   ]
  },
  {
   "cell_type": "code",
   "execution_count": 24,
   "metadata": {},
   "outputs": [
    {
     "name": "stderr",
     "output_type": "stream",
     "text": [
      "C:\\Users\\Felps\\AppData\\Local\\Temp\\ipykernel_15604\\3958281054.py:1: SettingWithCopyWarning:\n",
      "\n",
      "\n",
      "A value is trying to be set on a copy of a slice from a DataFrame.\n",
      "Try using .loc[row_indexer,col_indexer] = value instead\n",
      "\n",
      "See the caveats in the documentation: https://pandas.pydata.org/pandas-docs/stable/user_guide/indexing.html#returning-a-view-versus-a-copy\n",
      "\n"
     ]
    }
   ],
   "source": [
    "gaps_alta['Gap_Target'] = 1 #'ALTA'"
   ]
  },
  {
   "cell_type": "code",
   "execution_count": 25,
   "metadata": {},
   "outputs": [
    {
     "name": "stderr",
     "output_type": "stream",
     "text": [
      "C:\\Users\\Felps\\AppData\\Local\\Temp\\ipykernel_15604\\799258682.py:2: SettingWithCopyWarning:\n",
      "\n",
      "\n",
      "A value is trying to be set on a copy of a slice from a DataFrame.\n",
      "Try using .loc[row_indexer,col_indexer] = value instead\n",
      "\n",
      "See the caveats in the documentation: https://pandas.pydata.org/pandas-docs/stable/user_guide/indexing.html#returning-a-view-versus-a-copy\n",
      "\n"
     ]
    }
   ],
   "source": [
    "gaps_baixa = gaps.query('Tamanho_Gap > -750 & Tempo_Gap != 1234567891011 & Tempo_Gap < 40')\n",
    "gaps_baixa['Gap_Target'] = -1 #BAIXA"
   ]
  },
  {
   "cell_type": "code",
   "execution_count": 26,
   "metadata": {},
   "outputs": [
    {
     "name": "stderr",
     "output_type": "stream",
     "text": [
      "C:\\Users\\Felps\\AppData\\Local\\Temp\\ipykernel_15604\\502865543.py:2: SettingWithCopyWarning:\n",
      "\n",
      "\n",
      "A value is trying to be set on a copy of a slice from a DataFrame.\n",
      "Try using .loc[row_indexer,col_indexer] = value instead\n",
      "\n",
      "See the caveats in the documentation: https://pandas.pydata.org/pandas-docs/stable/user_guide/indexing.html#returning-a-view-versus-a-copy\n",
      "\n"
     ]
    }
   ],
   "source": [
    "gaps_neutro = gaps.query('Tempo_Gap == 1234567891011')\n",
    "gaps_neutro['Gap_Target'] = 0 #NEUTRO"
   ]
  },
  {
   "cell_type": "code",
   "execution_count": 27,
   "metadata": {},
   "outputs": [
    {
     "name": "stderr",
     "output_type": "stream",
     "text": [
      "C:\\Users\\Felps\\AppData\\Local\\Temp\\ipykernel_15604\\1255953504.py:1: FutureWarning:\n",
      "\n",
      "The frame.append method is deprecated and will be removed from pandas in a future version. Use pandas.concat instead.\n",
      "\n",
      "C:\\Users\\Felps\\AppData\\Local\\Temp\\ipykernel_15604\\1255953504.py:1: FutureWarning:\n",
      "\n",
      "The frame.append method is deprecated and will be removed from pandas in a future version. Use pandas.concat instead.\n",
      "\n"
     ]
    }
   ],
   "source": [
    "gap_final = gaps_neutro.append(gaps_alta.append(gaps_baixa))"
   ]
  },
  {
   "cell_type": "code",
   "execution_count": 28,
   "metadata": {},
   "outputs": [
    {
     "data": {
      "text/plain": [
       "array([ 0,  1, -1], dtype=int64)"
      ]
     },
     "execution_count": 28,
     "metadata": {},
     "output_type": "execute_result"
    }
   ],
   "source": [
    "gap_final['Gap_Target'].unique()"
   ]
  },
  {
   "cell_type": "code",
   "execution_count": 29,
   "metadata": {},
   "outputs": [],
   "source": [
    "gap_final.drop(['<HOUR>', '<MINUTE>','<DATE>',\n",
    "                'Tamanho_Gap','Tempo_Gap', 'Trend', '<DATE>', '<TIME>'], axis=1, inplace=True)"
   ]
  },
  {
   "cell_type": "code",
   "execution_count": 30,
   "metadata": {},
   "outputs": [
    {
     "data": {
      "text/html": [
       "<div>\n",
       "<style scoped>\n",
       "    .dataframe tbody tr th:only-of-type {\n",
       "        vertical-align: middle;\n",
       "    }\n",
       "\n",
       "    .dataframe tbody tr th {\n",
       "        vertical-align: top;\n",
       "    }\n",
       "\n",
       "    .dataframe thead th {\n",
       "        text-align: right;\n",
       "    }\n",
       "</style>\n",
       "<table border=\"1\" class=\"dataframe\">\n",
       "  <thead>\n",
       "    <tr style=\"text-align: right;\">\n",
       "      <th></th>\n",
       "      <th>Unnamed: 0</th>\n",
       "      <th>&lt;OPEN&gt;</th>\n",
       "      <th>&lt;HIGH&gt;</th>\n",
       "      <th>&lt;LOW&gt;</th>\n",
       "      <th>&lt;CLOSE&gt;</th>\n",
       "      <th>&lt;TICKVOL&gt;</th>\n",
       "      <th>&lt;VOL&gt;</th>\n",
       "      <th>&lt;SPREAD&gt;</th>\n",
       "      <th>&lt;DAY&gt;</th>\n",
       "      <th>&lt;YEAR&gt;</th>\n",
       "      <th>...</th>\n",
       "      <th>VarMACD_120</th>\n",
       "      <th>PtpMACD_120</th>\n",
       "      <th>Percentile_10_MACD_120</th>\n",
       "      <th>Percentile_60_MACD_120</th>\n",
       "      <th>Percentile_90_MACD_120</th>\n",
       "      <th>quantile_5_MACD_120</th>\n",
       "      <th>quantile_95_MACD_120</th>\n",
       "      <th>quantile_99_MACD_120</th>\n",
       "      <th>Close_Anterior</th>\n",
       "      <th>Gap_Target</th>\n",
       "    </tr>\n",
       "  </thead>\n",
       "  <tbody>\n",
       "    <tr>\n",
       "      <th>1819</th>\n",
       "      <td>1819</td>\n",
       "      <td>100500</td>\n",
       "      <td>100580</td>\n",
       "      <td>100485</td>\n",
       "      <td>100560</td>\n",
       "      <td>6497</td>\n",
       "      <td>23598</td>\n",
       "      <td>5</td>\n",
       "      <td>21</td>\n",
       "      <td>2020</td>\n",
       "      <td>...</td>\n",
       "      <td>490.934575</td>\n",
       "      <td>102.759760</td>\n",
       "      <td>-38.490108</td>\n",
       "      <td>-6.828753</td>\n",
       "      <td>17.358411</td>\n",
       "      <td>-50.481305</td>\n",
       "      <td>24.979997</td>\n",
       "      <td>30.318005</td>\n",
       "      <td>100930.0</td>\n",
       "      <td>0</td>\n",
       "    </tr>\n",
       "    <tr>\n",
       "      <th>2354</th>\n",
       "      <td>2354</td>\n",
       "      <td>100660</td>\n",
       "      <td>100665</td>\n",
       "      <td>100570</td>\n",
       "      <td>100615</td>\n",
       "      <td>4720</td>\n",
       "      <td>13803</td>\n",
       "      <td>5</td>\n",
       "      <td>22</td>\n",
       "      <td>2020</td>\n",
       "      <td>...</td>\n",
       "      <td>989.994991</td>\n",
       "      <td>129.888157</td>\n",
       "      <td>-71.714074</td>\n",
       "      <td>-16.130925</td>\n",
       "      <td>8.219607</td>\n",
       "      <td>-77.800358</td>\n",
       "      <td>28.618010</td>\n",
       "      <td>43.423994</td>\n",
       "      <td>100710.0</td>\n",
       "      <td>0</td>\n",
       "    </tr>\n",
       "    <tr>\n",
       "      <th>3424</th>\n",
       "      <td>3424</td>\n",
       "      <td>100845</td>\n",
       "      <td>100875</td>\n",
       "      <td>100835</td>\n",
       "      <td>100875</td>\n",
       "      <td>1992</td>\n",
       "      <td>9582</td>\n",
       "      <td>5</td>\n",
       "      <td>26</td>\n",
       "      <td>2020</td>\n",
       "      <td>...</td>\n",
       "      <td>426.063888</td>\n",
       "      <td>70.536598</td>\n",
       "      <td>-25.395581</td>\n",
       "      <td>-7.272612</td>\n",
       "      <td>31.429101</td>\n",
       "      <td>-29.724220</td>\n",
       "      <td>33.709430</td>\n",
       "      <td>36.055852</td>\n",
       "      <td>101630.0</td>\n",
       "      <td>0</td>\n",
       "    </tr>\n",
       "    <tr>\n",
       "      <th>7779</th>\n",
       "      <td>7779</td>\n",
       "      <td>100395</td>\n",
       "      <td>100395</td>\n",
       "      <td>100330</td>\n",
       "      <td>100370</td>\n",
       "      <td>1776</td>\n",
       "      <td>6097</td>\n",
       "      <td>5</td>\n",
       "      <td>6</td>\n",
       "      <td>2020</td>\n",
       "      <td>...</td>\n",
       "      <td>996.741570</td>\n",
       "      <td>127.323760</td>\n",
       "      <td>-26.058326</td>\n",
       "      <td>14.984426</td>\n",
       "      <td>64.723795</td>\n",
       "      <td>-39.154982</td>\n",
       "      <td>71.447359</td>\n",
       "      <td>82.062096</td>\n",
       "      <td>101080.0</td>\n",
       "      <td>0</td>\n",
       "    </tr>\n",
       "    <tr>\n",
       "      <th>10034</th>\n",
       "      <td>10034</td>\n",
       "      <td>104855</td>\n",
       "      <td>104950</td>\n",
       "      <td>104835</td>\n",
       "      <td>104940</td>\n",
       "      <td>1974</td>\n",
       "      <td>7133</td>\n",
       "      <td>5</td>\n",
       "      <td>12</td>\n",
       "      <td>2020</td>\n",
       "      <td>...</td>\n",
       "      <td>746.997452</td>\n",
       "      <td>104.164889</td>\n",
       "      <td>-40.894516</td>\n",
       "      <td>-2.928297</td>\n",
       "      <td>33.210000</td>\n",
       "      <td>-49.771344</td>\n",
       "      <td>37.153145</td>\n",
       "      <td>48.343168</td>\n",
       "      <td>105135.0</td>\n",
       "      <td>0</td>\n",
       "    </tr>\n",
       "    <tr>\n",
       "      <th>...</th>\n",
       "      <td>...</td>\n",
       "      <td>...</td>\n",
       "      <td>...</td>\n",
       "      <td>...</td>\n",
       "      <td>...</td>\n",
       "      <td>...</td>\n",
       "      <td>...</td>\n",
       "      <td>...</td>\n",
       "      <td>...</td>\n",
       "      <td>...</td>\n",
       "      <td>...</td>\n",
       "      <td>...</td>\n",
       "      <td>...</td>\n",
       "      <td>...</td>\n",
       "      <td>...</td>\n",
       "      <td>...</td>\n",
       "      <td>...</td>\n",
       "      <td>...</td>\n",
       "      <td>...</td>\n",
       "      <td>...</td>\n",
       "      <td>...</td>\n",
       "    </tr>\n",
       "    <tr>\n",
       "      <th>271341</th>\n",
       "      <td>271341</td>\n",
       "      <td>116740</td>\n",
       "      <td>116750</td>\n",
       "      <td>116645</td>\n",
       "      <td>116645</td>\n",
       "      <td>4927</td>\n",
       "      <td>13008</td>\n",
       "      <td>5</td>\n",
       "      <td>8</td>\n",
       "      <td>2022</td>\n",
       "      <td>...</td>\n",
       "      <td>1133.281389</td>\n",
       "      <td>141.996146</td>\n",
       "      <td>-88.441246</td>\n",
       "      <td>-21.682636</td>\n",
       "      <td>-2.793080</td>\n",
       "      <td>-98.641604</td>\n",
       "      <td>3.387718</td>\n",
       "      <td>8.969468</td>\n",
       "      <td>116680.0</td>\n",
       "      <td>-1</td>\n",
       "    </tr>\n",
       "    <tr>\n",
       "      <th>276985</th>\n",
       "      <td>276985</td>\n",
       "      <td>109965</td>\n",
       "      <td>110095</td>\n",
       "      <td>109965</td>\n",
       "      <td>110055</td>\n",
       "      <td>4511</td>\n",
       "      <td>14447</td>\n",
       "      <td>5</td>\n",
       "      <td>23</td>\n",
       "      <td>2022</td>\n",
       "      <td>...</td>\n",
       "      <td>9812.738254</td>\n",
       "      <td>337.465287</td>\n",
       "      <td>-163.241043</td>\n",
       "      <td>31.431986</td>\n",
       "      <td>91.538883</td>\n",
       "      <td>-176.125528</td>\n",
       "      <td>117.881551</td>\n",
       "      <td>140.996132</td>\n",
       "      <td>109570.0</td>\n",
       "      <td>-1</td>\n",
       "    </tr>\n",
       "    <tr>\n",
       "      <th>279810</th>\n",
       "      <td>279810</td>\n",
       "      <td>112000</td>\n",
       "      <td>112100</td>\n",
       "      <td>111840</td>\n",
       "      <td>112100</td>\n",
       "      <td>9521</td>\n",
       "      <td>23481</td>\n",
       "      <td>5</td>\n",
       "      <td>30</td>\n",
       "      <td>2022</td>\n",
       "      <td>...</td>\n",
       "      <td>2213.201773</td>\n",
       "      <td>170.492624</td>\n",
       "      <td>-109.298657</td>\n",
       "      <td>-11.298763</td>\n",
       "      <td>9.817519</td>\n",
       "      <td>-119.659848</td>\n",
       "      <td>20.153672</td>\n",
       "      <td>22.959618</td>\n",
       "      <td>111620.0</td>\n",
       "      <td>-1</td>\n",
       "    </tr>\n",
       "    <tr>\n",
       "      <th>281505</th>\n",
       "      <td>281505</td>\n",
       "      <td>112815</td>\n",
       "      <td>112840</td>\n",
       "      <td>112700</td>\n",
       "      <td>112700</td>\n",
       "      <td>4581</td>\n",
       "      <td>11569</td>\n",
       "      <td>5</td>\n",
       "      <td>5</td>\n",
       "      <td>2022</td>\n",
       "      <td>...</td>\n",
       "      <td>257.297952</td>\n",
       "      <td>64.892263</td>\n",
       "      <td>-36.728813</td>\n",
       "      <td>-11.970989</td>\n",
       "      <td>4.708672</td>\n",
       "      <td>-40.211775</td>\n",
       "      <td>11.566150</td>\n",
       "      <td>15.501999</td>\n",
       "      <td>112235.0</td>\n",
       "      <td>-1</td>\n",
       "    </tr>\n",
       "    <tr>\n",
       "      <th>282070</th>\n",
       "      <td>282070</td>\n",
       "      <td>109770</td>\n",
       "      <td>110080</td>\n",
       "      <td>109750</td>\n",
       "      <td>110075</td>\n",
       "      <td>13730</td>\n",
       "      <td>29665</td>\n",
       "      <td>5</td>\n",
       "      <td>6</td>\n",
       "      <td>2022</td>\n",
       "      <td>...</td>\n",
       "      <td>1002.740521</td>\n",
       "      <td>127.848440</td>\n",
       "      <td>-71.837787</td>\n",
       "      <td>-15.705489</td>\n",
       "      <td>12.542915</td>\n",
       "      <td>-92.563671</td>\n",
       "      <td>19.132748</td>\n",
       "      <td>24.672060</td>\n",
       "      <td>109480.0</td>\n",
       "      <td>-1</td>\n",
       "    </tr>\n",
       "  </tbody>\n",
       "</table>\n",
       "<p>483 rows × 180 columns</p>\n",
       "</div>"
      ],
      "text/plain": [
       "        Unnamed: 0  <OPEN>  <HIGH>   <LOW>  <CLOSE>  <TICKVOL>  <VOL>  \\\n",
       "1819          1819  100500  100580  100485   100560       6497  23598   \n",
       "2354          2354  100660  100665  100570   100615       4720  13803   \n",
       "3424          3424  100845  100875  100835   100875       1992   9582   \n",
       "7779          7779  100395  100395  100330   100370       1776   6097   \n",
       "10034        10034  104855  104950  104835   104940       1974   7133   \n",
       "...            ...     ...     ...     ...      ...        ...    ...   \n",
       "271341      271341  116740  116750  116645   116645       4927  13008   \n",
       "276985      276985  109965  110095  109965   110055       4511  14447   \n",
       "279810      279810  112000  112100  111840   112100       9521  23481   \n",
       "281505      281505  112815  112840  112700   112700       4581  11569   \n",
       "282070      282070  109770  110080  109750   110075      13730  29665   \n",
       "\n",
       "        <SPREAD>  <DAY>  <YEAR>  ...  VarMACD_120  PtpMACD_120  \\\n",
       "1819           5     21    2020  ...   490.934575   102.759760   \n",
       "2354           5     22    2020  ...   989.994991   129.888157   \n",
       "3424           5     26    2020  ...   426.063888    70.536598   \n",
       "7779           5      6    2020  ...   996.741570   127.323760   \n",
       "10034          5     12    2020  ...   746.997452   104.164889   \n",
       "...          ...    ...     ...  ...          ...          ...   \n",
       "271341         5      8    2022  ...  1133.281389   141.996146   \n",
       "276985         5     23    2022  ...  9812.738254   337.465287   \n",
       "279810         5     30    2022  ...  2213.201773   170.492624   \n",
       "281505         5      5    2022  ...   257.297952    64.892263   \n",
       "282070         5      6    2022  ...  1002.740521   127.848440   \n",
       "\n",
       "        Percentile_10_MACD_120  Percentile_60_MACD_120  \\\n",
       "1819                -38.490108               -6.828753   \n",
       "2354                -71.714074              -16.130925   \n",
       "3424                -25.395581               -7.272612   \n",
       "7779                -26.058326               14.984426   \n",
       "10034               -40.894516               -2.928297   \n",
       "...                        ...                     ...   \n",
       "271341              -88.441246              -21.682636   \n",
       "276985             -163.241043               31.431986   \n",
       "279810             -109.298657              -11.298763   \n",
       "281505              -36.728813              -11.970989   \n",
       "282070              -71.837787              -15.705489   \n",
       "\n",
       "        Percentile_90_MACD_120  quantile_5_MACD_120  quantile_95_MACD_120  \\\n",
       "1819                 17.358411           -50.481305             24.979997   \n",
       "2354                  8.219607           -77.800358             28.618010   \n",
       "3424                 31.429101           -29.724220             33.709430   \n",
       "7779                 64.723795           -39.154982             71.447359   \n",
       "10034                33.210000           -49.771344             37.153145   \n",
       "...                        ...                  ...                   ...   \n",
       "271341               -2.793080           -98.641604              3.387718   \n",
       "276985               91.538883          -176.125528            117.881551   \n",
       "279810                9.817519          -119.659848             20.153672   \n",
       "281505                4.708672           -40.211775             11.566150   \n",
       "282070               12.542915           -92.563671             19.132748   \n",
       "\n",
       "        quantile_99_MACD_120  Close_Anterior  Gap_Target  \n",
       "1819               30.318005        100930.0           0  \n",
       "2354               43.423994        100710.0           0  \n",
       "3424               36.055852        101630.0           0  \n",
       "7779               82.062096        101080.0           0  \n",
       "10034              48.343168        105135.0           0  \n",
       "...                      ...             ...         ...  \n",
       "271341              8.969468        116680.0          -1  \n",
       "276985            140.996132        109570.0          -1  \n",
       "279810             22.959618        111620.0          -1  \n",
       "281505             15.501999        112235.0          -1  \n",
       "282070             24.672060        109480.0          -1  \n",
       "\n",
       "[483 rows x 180 columns]"
      ]
     },
     "execution_count": 30,
     "metadata": {},
     "output_type": "execute_result"
    }
   ],
   "source": [
    "gap_final"
   ]
  },
  {
   "cell_type": "code",
   "execution_count": 31,
   "metadata": {},
   "outputs": [],
   "source": [
    "gap_final.to_csv('Gap_Target_Final.csv')"
   ]
  }
 ],
 "metadata": {
  "kernelspec": {
   "display_name": "Python 3",
   "language": "python",
   "name": "python3"
  },
  "language_info": {
   "codemirror_mode": {
    "name": "ipython",
    "version": 3
   },
   "file_extension": ".py",
   "mimetype": "text/x-python",
   "name": "python",
   "nbconvert_exporter": "python",
   "pygments_lexer": "ipython3",
   "version": "3.10.10"
  },
  "orig_nbformat": 4,
  "vscode": {
   "interpreter": {
    "hash": "8149941357ab46e91af0255cc46a7a09aaccc03c1980a89f638a5973ac5bc49f"
   }
  }
 },
 "nbformat": 4,
 "nbformat_minor": 2
}
