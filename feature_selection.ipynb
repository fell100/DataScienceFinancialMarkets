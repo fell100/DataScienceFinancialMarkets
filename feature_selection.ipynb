{
 "cells": [
  {
   "cell_type": "code",
   "execution_count": 1,
   "metadata": {},
   "outputs": [],
   "source": [
    "from sklearn.datasets import load_diabetes\n",
    "from sklearn.ensemble import RandomForestClassifier\n",
    "from boruta import BorutaPy\n",
    "import pandas as pd\n",
    "import numpy as np"
   ]
  },
  {
   "cell_type": "code",
   "execution_count": 2,
   "metadata": {},
   "outputs": [],
   "source": [
    "market_data = pd.read_csv('./Gap_Target_Final.csv')"
   ]
  },
  {
   "cell_type": "code",
   "execution_count": 3,
   "metadata": {},
   "outputs": [
    {
     "data": {
      "text/plain": [
       "(420, 181)"
      ]
     },
     "execution_count": 3,
     "metadata": {},
     "output_type": "execute_result"
    }
   ],
   "source": [
    "market_data.shape"
   ]
  },
  {
   "cell_type": "code",
   "execution_count": 4,
   "metadata": {},
   "outputs": [],
   "source": [
    "target = market_data['Gap_Target']"
   ]
  },
  {
   "cell_type": "code",
   "execution_count": 5,
   "metadata": {},
   "outputs": [],
   "source": [
    "market_data = market_data[market_data.columns[1:-1]]"
   ]
  },
  {
   "cell_type": "code",
   "execution_count": 6,
   "metadata": {},
   "outputs": [
    {
     "name": "stdout",
     "output_type": "stream",
     "text": [
      "['Unnamed: 0', '<OPEN>', '<HIGH>', '<LOW>', '<CLOSE>', '<TICKVOL>', '<VOL>', '<SPREAD>', '<DAY>', '<YEAR>', '<WEEKDAY>', '<MONTH>', 'Close', 'RSI', 'RSI_Buy', 'RSI_Sell', 'SMA', 'SMA_Buy', 'SMA_Sell', 'ROC', 'ROC_Buy', 'ROC_Sell', 'EMA', 'EMA_Buy', 'EMA_Sell', 'WMA', 'WMA_Buy', 'WMA_Sell', 'MACD', 'MACD_Buy', 'MACD_Sell', '<CLOSE>X<VOL>', '<CLOSE>2', '<VOL>2', '<CLOSE>XRSI', '<CLOSE>2.1', 'RSI2', '<CLOSE>XSMA', '<CLOSE>2.2', 'SMA2', '<CLOSE>XROC', '<CLOSE>2.3', 'ROC2', '<CLOSE>XEMA', '<CLOSE>2.4', 'EMA2', '<CLOSE>XWMA', '<CLOSE>2.5', 'WMA2', '<CLOSE>XMACD', '<CLOSE>2.6', 'MACD2', 'RSI_Buy_SMA_Buy', 'RSI_Buy_ROC_Buy', 'RSI_Buy_EMA_Buy', 'RSI_Buy_WMA_Buy', 'RSI_Buy_MACD_Buy', 'SMA_Buy_ROC_Buy', 'SMA_Buy_EMA_Buy', 'SMA_Buy_WMA_Buy', 'SMA_Buy_MACD_Buy', 'ROC_Buy_EMA_Buy', 'ROC_Buy_WMA_Buy', 'ROC_Buy_MACD_Buy', 'EMA_Buy_WMA_Buy', 'EMA_Buy_MACD_Buy', 'WMA_Buy_MACD_Buy', 'RSI_Sell_SMA_Sell', 'RSI_Sell_ROC_Sell', 'RSI_Sell_EMA_Sell', 'RSI_Sell_WMA_Sell', 'RSI_Sell_MACD_Sell', 'SMA_Sell_ROC_Sell', 'SMA_Sell_EMA_Sell', 'SMA_Sell_WMA_Sell', 'SMA_Sell_MACD_Sell', 'ROC_Sell_EMA_Sell', 'ROC_Sell_WMA_Sell', 'ROC_Sell_MACD_Sell', 'EMA_Sell_WMA_Sell', 'EMA_Sell_MACD_Sell', 'WMA_Sell_MACD_Sell', 'Max<VOL>_30', 'Mean<VOL>_30', 'Min<VOL>_30', 'Std<VOL>_30', 'Var<VOL>_30', 'Ptp<VOL>_30', 'Percentile_10_<VOL>_30', 'Percentile_60_<VOL>_30', 'Percentile_90_<VOL>_30', 'quantile_5_<VOL>_30', 'quantile_95_<VOL>_30', 'quantile_99_<VOL>_30', 'Max<CLOSE>_30', 'Mean<CLOSE>_30', 'Min<CLOSE>_30', 'Std<CLOSE>_30', 'Var<CLOSE>_30', 'Ptp<CLOSE>_30', 'Percentile_10_<CLOSE>_30', 'Percentile_60_<CLOSE>_30', 'Percentile_90_<CLOSE>_30', 'quantile_5_<CLOSE>_30', 'quantile_95_<CLOSE>_30', 'quantile_99_<CLOSE>_30', 'MaxRSI_30', 'MeanRSI_30', 'MinRSI_30', 'StdRSI_30', 'VarRSI_30', 'PtpRSI_30', 'Percentile_10_RSI_30', 'Percentile_60_RSI_30', 'Percentile_90_RSI_30', 'quantile_5_RSI_30', 'quantile_95_RSI_30', 'quantile_99_RSI_30', 'MaxMACD_30', 'MeanMACD_30', 'MinMACD_30', 'StdMACD_30', 'VarMACD_30', 'PtpMACD_30', 'Percentile_10_MACD_30', 'Percentile_60_MACD_30', 'Percentile_90_MACD_30', 'quantile_5_MACD_30', 'quantile_95_MACD_30', 'quantile_99_MACD_30', 'Max<VOL>_120', 'Mean<VOL>_120', 'Min<VOL>_120', 'Std<VOL>_120', 'Var<VOL>_120', 'Ptp<VOL>_120', 'Percentile_10_<VOL>_120', 'Percentile_60_<VOL>_120', 'Percentile_90_<VOL>_120', 'quantile_5_<VOL>_120', 'quantile_95_<VOL>_120', 'quantile_99_<VOL>_120', 'Max<CLOSE>_120', 'Mean<CLOSE>_120', 'Min<CLOSE>_120', 'Std<CLOSE>_120', 'Var<CLOSE>_120', 'Ptp<CLOSE>_120', 'Percentile_10_<CLOSE>_120', 'Percentile_60_<CLOSE>_120', 'Percentile_90_<CLOSE>_120', 'quantile_5_<CLOSE>_120', 'quantile_95_<CLOSE>_120', 'quantile_99_<CLOSE>_120', 'MaxRSI_120', 'MeanRSI_120', 'MinRSI_120', 'StdRSI_120', 'VarRSI_120', 'PtpRSI_120', 'Percentile_10_RSI_120', 'Percentile_60_RSI_120', 'Percentile_90_RSI_120', 'quantile_5_RSI_120', 'quantile_95_RSI_120', 'quantile_99_RSI_120', 'MaxMACD_120', 'MeanMACD_120', 'MinMACD_120', 'StdMACD_120', 'VarMACD_120', 'PtpMACD_120', 'Percentile_10_MACD_120', 'Percentile_60_MACD_120', 'Percentile_90_MACD_120', 'quantile_5_MACD_120', 'quantile_95_MACD_120', 'quantile_99_MACD_120', 'Close_Anterior']\n"
     ]
    }
   ],
   "source": [
    "print(list(market_data.columns))"
   ]
  },
  {
   "cell_type": "code",
   "execution_count": 7,
   "metadata": {},
   "outputs": [],
   "source": [
    "#market_data = market_data[['<CLOSE>', '<VOL>', '<OPEN>', '<HIGH>', '<LOW>', 'RSI_Buy', 'RSI_Sell', 'SMA_Buy', 'SMA_Sell', 'ROC_Buy', 'ROC_Sell', 'EMA_Buy', 'EMA_Sell', 'WMA_Buy', 'WMA_Sell', 'MACD', 'MACD_Buy', 'MACD_Sell', '<CLOSE>X<VOL>', '<CLOSE>2', '<VOL>2', '<CLOSE>XMACD', '<CLOSE>2.1', 'MACD2', '<HOUR_SIN>', '<HOUR_COSINE>', '<MINUTE_SIN>', '<MINUTE_COSINE>', '<DAY_SIN>', '<DAY_COSINE>', '<YEAR_SIN>', '<YEAR_COSINE>', '<WEEKDAY_SIN>', '<WEEKDAY_COSINE>', '<MONTH_SIN>', '<MONTH_COSINE>', 'Max<VOL>', 'Mean<VOL>', 'Min<VOL>', 'Std<VOL>', 'Var<VOL>', 'Ptp<VOL>', 'Percentile_10_<VOL>', 'Percentile_60_<VOL>', 'Percentile_90_<VOL>', 'quantile_5_<VOL>', 'quantile_95_<VOL>', 'quantile_99_<VOL>', 'Max<CLOSE>', 'Mean<CLOSE>', 'Min<CLOSE>', 'Std<CLOSE>', 'Var<CLOSE>', 'Ptp<CLOSE>', 'Percentile_10_<CLOSE>', 'Percentile_60_<CLOSE>', 'Percentile_90_<CLOSE>', 'quantile_5_<CLOSE>', 'quantile_95_<CLOSE>', 'quantile_99_<CLOSE>', 'MaxMACD', 'MeanMACD', 'MinMACD', 'StdMACD', 'VarMACD', 'PtpMACD', 'Percentile_10_MACD', 'Percentile_60_MACD', 'Percentile_90_MACD', 'quantile_5_MACD', 'quantile_95_MACD', 'quantile_99_MACD', 'Close_Anterior', 'RSI_Buy_SMA_Buy', 'RSI_Buy_ROC_Buy', 'RSI_Buy_EMA_Buy', 'RSI_Buy_WMA_Buy', 'RSI_Buy_MACD_Buy', 'SMA_Buy_ROC_Buy', 'SMA_Buy_EMA_Buy', 'SMA_Buy_WMA_Buy', 'SMA_Buy_MACD_Buy', 'ROC_Buy_EMA_Buy', 'ROC_Buy_WMA_Buy', 'ROC_Buy_MACD_Buy', 'EMA_Buy_WMA_Buy', 'EMA_Buy_MACD_Buy', 'WMA_Buy_MACD_Buy', 'RSI_Sell_SMA_Sell', 'RSI_Sell_ROC_Sell', 'RSI_Sell_EMA_Sell', 'RSI_Sell_WMA_Sell', 'RSI_Sell_MACD_Sell', 'SMA_Sell_ROC_Sell', 'SMA_Sell_EMA_Sell', 'SMA_Sell_WMA_Sell', 'SMA_Sell_MACD_Sell', 'ROC_Sell_EMA_Sell', 'ROC_Sell_WMA_Sell', 'ROC_Sell_MACD_Sell', 'EMA_Sell_WMA_Sell', 'EMA_Sell_MACD_Sell', 'WMA_Sell_MACD_Sell']]\n",
    "#all_columns = ['<CLOSE>', '<VOL>', '<OPEN>', '<HIGH>', '<LOW>', 'RSI_Buy', 'RSI_Sell', 'SMA_Buy', 'SMA_Sell', 'ROC_Buy', 'ROC_Sell', 'EMA_Buy', 'EMA_Sell', 'WMA_Buy', 'WMA_Sell', 'MACD', 'MACD_Buy', 'MACD_Sell', '<CLOSE>X<VOL>', '<CLOSE>2', '<VOL>2', '<CLOSE>XMACD', '<CLOSE>2.1', 'MACD2', '<HOUR_SIN>', '<HOUR_COSINE>', '<MINUTE_SIN>', '<MINUTE_COSINE>', '<DAY_SIN>', '<DAY_COSINE>', '<YEAR_SIN>', '<YEAR_COSINE>', '<WEEKDAY_SIN>', '<WEEKDAY_COSINE>', '<MONTH_SIN>', '<MONTH_COSINE>', 'Max<VOL>', 'Mean<VOL>', 'Min<VOL>', 'Std<VOL>', 'Var<VOL>', 'Ptp<VOL>', 'Percentile_10_<VOL>', 'Percentile_60_<VOL>', 'Percentile_90_<VOL>', 'quantile_5_<VOL>', 'quantile_95_<VOL>', 'quantile_99_<VOL>', 'Max<CLOSE>', 'Mean<CLOSE>', 'Min<CLOSE>', 'Std<CLOSE>', 'Var<CLOSE>', 'Ptp<CLOSE>', 'Percentile_10_<CLOSE>', 'Percentile_60_<CLOSE>', 'Percentile_90_<CLOSE>', 'quantile_5_<CLOSE>', 'quantile_95_<CLOSE>', 'quantile_99_<CLOSE>', 'MaxMACD', 'MeanMACD', 'MinMACD', 'StdMACD', 'VarMACD', 'PtpMACD', 'Percentile_10_MACD', 'Percentile_60_MACD', 'Percentile_90_MACD', 'quantile_5_MACD', 'quantile_95_MACD', 'quantile_99_MACD', 'Close_Anterior', 'RSI_Buy_SMA_Buy', 'RSI_Buy_ROC_Buy', 'RSI_Buy_EMA_Buy', 'RSI_Buy_WMA_Buy', 'RSI_Buy_MACD_Buy', 'SMA_Buy_ROC_Buy', 'SMA_Buy_EMA_Buy', 'SMA_Buy_WMA_Buy', 'SMA_Buy_MACD_Buy', 'ROC_Buy_EMA_Buy', 'ROC_Buy_WMA_Buy', 'ROC_Buy_MACD_Buy', 'EMA_Buy_WMA_Buy', 'EMA_Buy_MACD_Buy', 'WMA_Buy_MACD_Buy', 'RSI_Sell_SMA_Sell', 'RSI_Sell_ROC_Sell', 'RSI_Sell_EMA_Sell', 'RSI_Sell_WMA_Sell', 'RSI_Sell_MACD_Sell', 'SMA_Sell_ROC_Sell', 'SMA_Sell_EMA_Sell', 'SMA_Sell_WMA_Sell', 'SMA_Sell_MACD_Sell', 'ROC_Sell_EMA_Sell', 'ROC_Sell_WMA_Sell', 'ROC_Sell_MACD_Sell', 'EMA_Sell_WMA_Sell', 'EMA_Sell_MACD_Sell', 'WMA_Sell_MACD_Sell']"
   ]
  },
  {
   "cell_type": "code",
   "execution_count": 8,
   "metadata": {},
   "outputs": [
    {
     "name": "stdout",
     "output_type": "stream",
     "text": [
      "['Unnamed: 0', '<OPEN>', '<HIGH>', '<LOW>', '<CLOSE>', '<TICKVOL>', '<VOL>', '<SPREAD>', '<DAY>', '<YEAR>', '<WEEKDAY>', '<MONTH>', 'Close', 'RSI', 'RSI_Buy', 'RSI_Sell', 'SMA', 'SMA_Buy', 'SMA_Sell', 'ROC', 'ROC_Buy', 'ROC_Sell', 'EMA', 'EMA_Buy', 'EMA_Sell', 'WMA', 'WMA_Buy', 'WMA_Sell', 'MACD', 'MACD_Buy', 'MACD_Sell', '<CLOSE>X<VOL>', '<CLOSE>2', '<VOL>2', '<CLOSE>XRSI', '<CLOSE>2.1', 'RSI2', '<CLOSE>XSMA', '<CLOSE>2.2', 'SMA2', '<CLOSE>XROC', '<CLOSE>2.3', 'ROC2', '<CLOSE>XEMA', '<CLOSE>2.4', 'EMA2', '<CLOSE>XWMA', '<CLOSE>2.5', 'WMA2', '<CLOSE>XMACD', '<CLOSE>2.6', 'MACD2', 'RSI_Buy_SMA_Buy', 'RSI_Buy_ROC_Buy', 'RSI_Buy_EMA_Buy', 'RSI_Buy_WMA_Buy', 'RSI_Buy_MACD_Buy', 'SMA_Buy_ROC_Buy', 'SMA_Buy_EMA_Buy', 'SMA_Buy_WMA_Buy', 'SMA_Buy_MACD_Buy', 'ROC_Buy_EMA_Buy', 'ROC_Buy_WMA_Buy', 'ROC_Buy_MACD_Buy', 'EMA_Buy_WMA_Buy', 'EMA_Buy_MACD_Buy', 'WMA_Buy_MACD_Buy', 'RSI_Sell_SMA_Sell', 'RSI_Sell_ROC_Sell', 'RSI_Sell_EMA_Sell', 'RSI_Sell_WMA_Sell', 'RSI_Sell_MACD_Sell', 'SMA_Sell_ROC_Sell', 'SMA_Sell_EMA_Sell', 'SMA_Sell_WMA_Sell', 'SMA_Sell_MACD_Sell', 'ROC_Sell_EMA_Sell', 'ROC_Sell_WMA_Sell', 'ROC_Sell_MACD_Sell', 'EMA_Sell_WMA_Sell', 'EMA_Sell_MACD_Sell', 'WMA_Sell_MACD_Sell', 'Max<VOL>_30', 'Mean<VOL>_30', 'Min<VOL>_30', 'Std<VOL>_30', 'Var<VOL>_30', 'Ptp<VOL>_30', 'Percentile_10_<VOL>_30', 'Percentile_60_<VOL>_30', 'Percentile_90_<VOL>_30', 'quantile_5_<VOL>_30', 'quantile_95_<VOL>_30', 'quantile_99_<VOL>_30', 'Max<CLOSE>_30', 'Mean<CLOSE>_30', 'Min<CLOSE>_30', 'Std<CLOSE>_30', 'Var<CLOSE>_30', 'Ptp<CLOSE>_30', 'Percentile_10_<CLOSE>_30', 'Percentile_60_<CLOSE>_30', 'Percentile_90_<CLOSE>_30', 'quantile_5_<CLOSE>_30', 'quantile_95_<CLOSE>_30', 'quantile_99_<CLOSE>_30', 'MaxRSI_30', 'MeanRSI_30', 'MinRSI_30', 'StdRSI_30', 'VarRSI_30', 'PtpRSI_30', 'Percentile_10_RSI_30', 'Percentile_60_RSI_30', 'Percentile_90_RSI_30', 'quantile_5_RSI_30', 'quantile_95_RSI_30', 'quantile_99_RSI_30', 'MaxMACD_30', 'MeanMACD_30', 'MinMACD_30', 'StdMACD_30', 'VarMACD_30', 'PtpMACD_30', 'Percentile_10_MACD_30', 'Percentile_60_MACD_30', 'Percentile_90_MACD_30', 'quantile_5_MACD_30', 'quantile_95_MACD_30', 'quantile_99_MACD_30', 'Max<VOL>_120', 'Mean<VOL>_120', 'Min<VOL>_120', 'Std<VOL>_120', 'Var<VOL>_120', 'Ptp<VOL>_120', 'Percentile_10_<VOL>_120', 'Percentile_60_<VOL>_120', 'Percentile_90_<VOL>_120', 'quantile_5_<VOL>_120', 'quantile_95_<VOL>_120', 'quantile_99_<VOL>_120', 'Max<CLOSE>_120', 'Mean<CLOSE>_120', 'Min<CLOSE>_120', 'Std<CLOSE>_120', 'Var<CLOSE>_120', 'Ptp<CLOSE>_120', 'Percentile_10_<CLOSE>_120', 'Percentile_60_<CLOSE>_120', 'Percentile_90_<CLOSE>_120', 'quantile_5_<CLOSE>_120', 'quantile_95_<CLOSE>_120', 'quantile_99_<CLOSE>_120', 'MaxRSI_120', 'MeanRSI_120', 'MinRSI_120', 'StdRSI_120', 'VarRSI_120', 'PtpRSI_120', 'Percentile_10_RSI_120', 'Percentile_60_RSI_120', 'Percentile_90_RSI_120', 'quantile_5_RSI_120', 'quantile_95_RSI_120', 'quantile_99_RSI_120', 'MaxMACD_120', 'MeanMACD_120', 'MinMACD_120', 'StdMACD_120', 'VarMACD_120', 'PtpMACD_120', 'Percentile_10_MACD_120', 'Percentile_60_MACD_120', 'Percentile_90_MACD_120', 'quantile_5_MACD_120', 'quantile_95_MACD_120', 'quantile_99_MACD_120', 'Close_Anterior']\n"
     ]
    }
   ],
   "source": [
    "print(list(market_data.columns))"
   ]
  },
  {
   "cell_type": "code",
   "execution_count": 9,
   "metadata": {},
   "outputs": [],
   "source": [
    "categorical_columns = ['RSI_Buy_SMA_Buy', 'RSI_Buy_ROC_Buy', 'RSI_Buy_EMA_Buy', 'RSI_Buy_WMA_Buy', \n",
    "                       'RSI_Buy_MACD_Buy', 'SMA_Buy_ROC_Buy', 'SMA_Buy_EMA_Buy', 'SMA_Buy_WMA_Buy',\n",
    "                       'SMA_Buy_MACD_Buy', 'ROC_Buy_EMA_Buy', 'ROC_Buy_WMA_Buy', 'ROC_Buy_MACD_Buy', \n",
    "                       'EMA_Buy_WMA_Buy', 'EMA_Buy_MACD_Buy', 'WMA_Buy_MACD_Buy', 'RSI_Sell_SMA_Sell',\n",
    "                       'RSI_Sell_ROC_Sell', 'RSI_Sell_EMA_Sell', 'RSI_Sell_WMA_Sell', 'RSI_Sell_MACD_Sell',\n",
    "                       'SMA_Sell_ROC_Sell', 'SMA_Sell_EMA_Sell', 'SMA_Sell_WMA_Sell', 'SMA_Sell_MACD_Sell', \n",
    "                       'ROC_Sell_EMA_Sell', 'ROC_Sell_WMA_Sell', 'ROC_Sell_MACD_Sell', 'EMA_Sell_WMA_Sell', \n",
    "                       'EMA_Sell_MACD_Sell', 'WMA_Sell_MACD_Sell']\n",
    "numerical_columns = [i for i in market_data.columns if i not in categorical_columns]"
   ]
  },
  {
   "cell_type": "code",
   "execution_count": 10,
   "metadata": {},
   "outputs": [],
   "source": [
    "#categorical_columns = ['RSI_Buy_SMA_Buy', 'RSI_Buy_ROC_Buy']"
   ]
  },
  {
   "cell_type": "code",
   "execution_count": 11,
   "metadata": {},
   "outputs": [],
   "source": [
    "#market_data = market_data[numerical_columns]"
   ]
  },
  {
   "cell_type": "code",
   "execution_count": 12,
   "metadata": {},
   "outputs": [],
   "source": [
    "all_columns = market_data.columns"
   ]
  },
  {
   "cell_type": "code",
   "execution_count": 13,
   "metadata": {},
   "outputs": [
    {
     "data": {
      "text/html": [
       "<style>#sk-container-id-1 {color: black;background-color: white;}#sk-container-id-1 pre{padding: 0;}#sk-container-id-1 div.sk-toggleable {background-color: white;}#sk-container-id-1 label.sk-toggleable__label {cursor: pointer;display: block;width: 100%;margin-bottom: 0;padding: 0.3em;box-sizing: border-box;text-align: center;}#sk-container-id-1 label.sk-toggleable__label-arrow:before {content: \"▸\";float: left;margin-right: 0.25em;color: #696969;}#sk-container-id-1 label.sk-toggleable__label-arrow:hover:before {color: black;}#sk-container-id-1 div.sk-estimator:hover label.sk-toggleable__label-arrow:before {color: black;}#sk-container-id-1 div.sk-toggleable__content {max-height: 0;max-width: 0;overflow: hidden;text-align: left;background-color: #f0f8ff;}#sk-container-id-1 div.sk-toggleable__content pre {margin: 0.2em;color: black;border-radius: 0.25em;background-color: #f0f8ff;}#sk-container-id-1 input.sk-toggleable__control:checked~div.sk-toggleable__content {max-height: 200px;max-width: 100%;overflow: auto;}#sk-container-id-1 input.sk-toggleable__control:checked~label.sk-toggleable__label-arrow:before {content: \"▾\";}#sk-container-id-1 div.sk-estimator input.sk-toggleable__control:checked~label.sk-toggleable__label {background-color: #d4ebff;}#sk-container-id-1 div.sk-label input.sk-toggleable__control:checked~label.sk-toggleable__label {background-color: #d4ebff;}#sk-container-id-1 input.sk-hidden--visually {border: 0;clip: rect(1px 1px 1px 1px);clip: rect(1px, 1px, 1px, 1px);height: 1px;margin: -1px;overflow: hidden;padding: 0;position: absolute;width: 1px;}#sk-container-id-1 div.sk-estimator {font-family: monospace;background-color: #f0f8ff;border: 1px dotted black;border-radius: 0.25em;box-sizing: border-box;margin-bottom: 0.5em;}#sk-container-id-1 div.sk-estimator:hover {background-color: #d4ebff;}#sk-container-id-1 div.sk-parallel-item::after {content: \"\";width: 100%;border-bottom: 1px solid gray;flex-grow: 1;}#sk-container-id-1 div.sk-label:hover label.sk-toggleable__label {background-color: #d4ebff;}#sk-container-id-1 div.sk-serial::before {content: \"\";position: absolute;border-left: 1px solid gray;box-sizing: border-box;top: 0;bottom: 0;left: 50%;z-index: 0;}#sk-container-id-1 div.sk-serial {display: flex;flex-direction: column;align-items: center;background-color: white;padding-right: 0.2em;padding-left: 0.2em;position: relative;}#sk-container-id-1 div.sk-item {position: relative;z-index: 1;}#sk-container-id-1 div.sk-parallel {display: flex;align-items: stretch;justify-content: center;background-color: white;position: relative;}#sk-container-id-1 div.sk-item::before, #sk-container-id-1 div.sk-parallel-item::before {content: \"\";position: absolute;border-left: 1px solid gray;box-sizing: border-box;top: 0;bottom: 0;left: 50%;z-index: -1;}#sk-container-id-1 div.sk-parallel-item {display: flex;flex-direction: column;z-index: 1;position: relative;background-color: white;}#sk-container-id-1 div.sk-parallel-item:first-child::after {align-self: flex-end;width: 50%;}#sk-container-id-1 div.sk-parallel-item:last-child::after {align-self: flex-start;width: 50%;}#sk-container-id-1 div.sk-parallel-item:only-child::after {width: 0;}#sk-container-id-1 div.sk-dashed-wrapped {border: 1px dashed gray;margin: 0 0.4em 0.5em 0.4em;box-sizing: border-box;padding-bottom: 0.4em;background-color: white;}#sk-container-id-1 div.sk-label label {font-family: monospace;font-weight: bold;display: inline-block;line-height: 1.2em;}#sk-container-id-1 div.sk-label-container {text-align: center;}#sk-container-id-1 div.sk-container {/* jupyter's `normalize.less` sets `[hidden] { display: none; }` but bootstrap.min.css set `[hidden] { display: none !important; }` so we also need the `!important` here to be able to override the default hidden behavior on the sphinx rendered scikit-learn.org. See: https://github.com/scikit-learn/scikit-learn/issues/21755 */display: inline-block !important;position: relative;}#sk-container-id-1 div.sk-text-repr-fallback {display: none;}</style><div id=\"sk-container-id-1\" class=\"sk-top-container\"><div class=\"sk-text-repr-fallback\"><pre>Pipeline(steps=[(&#x27;transformer&#x27;,\n",
       "                 ColumnTransformer(transformers=[(&#x27;robustscaler&#x27;,\n",
       "                                                  RobustScaler(),\n",
       "                                                  [&#x27;Unnamed: 0&#x27;, &#x27;&lt;OPEN&gt;&#x27;,\n",
       "                                                   &#x27;&lt;HIGH&gt;&#x27;, &#x27;&lt;LOW&gt;&#x27;, &#x27;&lt;CLOSE&gt;&#x27;,\n",
       "                                                   &#x27;&lt;TICKVOL&gt;&#x27;, &#x27;&lt;VOL&gt;&#x27;,\n",
       "                                                   &#x27;&lt;SPREAD&gt;&#x27;, &#x27;&lt;DAY&gt;&#x27;,\n",
       "                                                   &#x27;&lt;YEAR&gt;&#x27;, &#x27;&lt;WEEKDAY&gt;&#x27;,\n",
       "                                                   &#x27;&lt;MONTH&gt;&#x27;, &#x27;Close&#x27;, &#x27;RSI&#x27;,\n",
       "                                                   &#x27;RSI_Buy&#x27;, &#x27;RSI_Sell&#x27;, &#x27;SMA&#x27;,\n",
       "                                                   &#x27;SMA_Buy&#x27;, &#x27;SMA_Sell&#x27;, &#x27;ROC&#x27;,\n",
       "                                                   &#x27;ROC_Buy&#x27;, &#x27;ROC_Sell&#x27;, &#x27;EMA&#x27;,\n",
       "                                                   &#x27;EMA_Buy&#x27;, &#x27;EMA_Sell&#x27;, &#x27;WMA&#x27;,\n",
       "                                                   &#x27;WMA_Buy&#x27;, &#x27;WMA_Sell&#x27;,\n",
       "                                                   &#x27;MACD&#x27;, &#x27;MACD_Buy&#x27;, ...])]))])</pre><b>In a Jupyter environment, please rerun this cell to show the HTML representation or trust the notebook. <br />On GitHub, the HTML representation is unable to render, please try loading this page with nbviewer.org.</b></div><div class=\"sk-container\" hidden><div class=\"sk-item sk-dashed-wrapped\"><div class=\"sk-label-container\"><div class=\"sk-label sk-toggleable\"><input class=\"sk-toggleable__control sk-hidden--visually\" id=\"sk-estimator-id-1\" type=\"checkbox\" ><label for=\"sk-estimator-id-1\" class=\"sk-toggleable__label sk-toggleable__label-arrow\">Pipeline</label><div class=\"sk-toggleable__content\"><pre>Pipeline(steps=[(&#x27;transformer&#x27;,\n",
       "                 ColumnTransformer(transformers=[(&#x27;robustscaler&#x27;,\n",
       "                                                  RobustScaler(),\n",
       "                                                  [&#x27;Unnamed: 0&#x27;, &#x27;&lt;OPEN&gt;&#x27;,\n",
       "                                                   &#x27;&lt;HIGH&gt;&#x27;, &#x27;&lt;LOW&gt;&#x27;, &#x27;&lt;CLOSE&gt;&#x27;,\n",
       "                                                   &#x27;&lt;TICKVOL&gt;&#x27;, &#x27;&lt;VOL&gt;&#x27;,\n",
       "                                                   &#x27;&lt;SPREAD&gt;&#x27;, &#x27;&lt;DAY&gt;&#x27;,\n",
       "                                                   &#x27;&lt;YEAR&gt;&#x27;, &#x27;&lt;WEEKDAY&gt;&#x27;,\n",
       "                                                   &#x27;&lt;MONTH&gt;&#x27;, &#x27;Close&#x27;, &#x27;RSI&#x27;,\n",
       "                                                   &#x27;RSI_Buy&#x27;, &#x27;RSI_Sell&#x27;, &#x27;SMA&#x27;,\n",
       "                                                   &#x27;SMA_Buy&#x27;, &#x27;SMA_Sell&#x27;, &#x27;ROC&#x27;,\n",
       "                                                   &#x27;ROC_Buy&#x27;, &#x27;ROC_Sell&#x27;, &#x27;EMA&#x27;,\n",
       "                                                   &#x27;EMA_Buy&#x27;, &#x27;EMA_Sell&#x27;, &#x27;WMA&#x27;,\n",
       "                                                   &#x27;WMA_Buy&#x27;, &#x27;WMA_Sell&#x27;,\n",
       "                                                   &#x27;MACD&#x27;, &#x27;MACD_Buy&#x27;, ...])]))])</pre></div></div></div><div class=\"sk-serial\"><div class=\"sk-item sk-dashed-wrapped\"><div class=\"sk-label-container\"><div class=\"sk-label sk-toggleable\"><input class=\"sk-toggleable__control sk-hidden--visually\" id=\"sk-estimator-id-2\" type=\"checkbox\" ><label for=\"sk-estimator-id-2\" class=\"sk-toggleable__label sk-toggleable__label-arrow\">transformer: ColumnTransformer</label><div class=\"sk-toggleable__content\"><pre>ColumnTransformer(transformers=[(&#x27;robustscaler&#x27;, RobustScaler(),\n",
       "                                 [&#x27;Unnamed: 0&#x27;, &#x27;&lt;OPEN&gt;&#x27;, &#x27;&lt;HIGH&gt;&#x27;, &#x27;&lt;LOW&gt;&#x27;,\n",
       "                                  &#x27;&lt;CLOSE&gt;&#x27;, &#x27;&lt;TICKVOL&gt;&#x27;, &#x27;&lt;VOL&gt;&#x27;, &#x27;&lt;SPREAD&gt;&#x27;,\n",
       "                                  &#x27;&lt;DAY&gt;&#x27;, &#x27;&lt;YEAR&gt;&#x27;, &#x27;&lt;WEEKDAY&gt;&#x27;, &#x27;&lt;MONTH&gt;&#x27;,\n",
       "                                  &#x27;Close&#x27;, &#x27;RSI&#x27;, &#x27;RSI_Buy&#x27;, &#x27;RSI_Sell&#x27;, &#x27;SMA&#x27;,\n",
       "                                  &#x27;SMA_Buy&#x27;, &#x27;SMA_Sell&#x27;, &#x27;ROC&#x27;, &#x27;ROC_Buy&#x27;,\n",
       "                                  &#x27;ROC_Sell&#x27;, &#x27;EMA&#x27;, &#x27;EMA_Buy&#x27;, &#x27;EMA_Sell&#x27;,\n",
       "                                  &#x27;WMA&#x27;, &#x27;WMA_Buy&#x27;, &#x27;WMA_Sell&#x27;, &#x27;MACD&#x27;,\n",
       "                                  &#x27;MACD_Buy&#x27;, ...])])</pre></div></div></div><div class=\"sk-parallel\"><div class=\"sk-parallel-item\"><div class=\"sk-item\"><div class=\"sk-label-container\"><div class=\"sk-label sk-toggleable\"><input class=\"sk-toggleable__control sk-hidden--visually\" id=\"sk-estimator-id-3\" type=\"checkbox\" ><label for=\"sk-estimator-id-3\" class=\"sk-toggleable__label sk-toggleable__label-arrow\">robustscaler</label><div class=\"sk-toggleable__content\"><pre>[&#x27;Unnamed: 0&#x27;, &#x27;&lt;OPEN&gt;&#x27;, &#x27;&lt;HIGH&gt;&#x27;, &#x27;&lt;LOW&gt;&#x27;, &#x27;&lt;CLOSE&gt;&#x27;, &#x27;&lt;TICKVOL&gt;&#x27;, &#x27;&lt;VOL&gt;&#x27;, &#x27;&lt;SPREAD&gt;&#x27;, &#x27;&lt;DAY&gt;&#x27;, &#x27;&lt;YEAR&gt;&#x27;, &#x27;&lt;WEEKDAY&gt;&#x27;, &#x27;&lt;MONTH&gt;&#x27;, &#x27;Close&#x27;, &#x27;RSI&#x27;, &#x27;RSI_Buy&#x27;, &#x27;RSI_Sell&#x27;, &#x27;SMA&#x27;, &#x27;SMA_Buy&#x27;, &#x27;SMA_Sell&#x27;, &#x27;ROC&#x27;, &#x27;ROC_Buy&#x27;, &#x27;ROC_Sell&#x27;, &#x27;EMA&#x27;, &#x27;EMA_Buy&#x27;, &#x27;EMA_Sell&#x27;, &#x27;WMA&#x27;, &#x27;WMA_Buy&#x27;, &#x27;WMA_Sell&#x27;, &#x27;MACD&#x27;, &#x27;MACD_Buy&#x27;, &#x27;MACD_Sell&#x27;, &#x27;&lt;CLOSE&gt;X&lt;VOL&gt;&#x27;, &#x27;&lt;CLOSE&gt;2&#x27;, &#x27;&lt;VOL&gt;2&#x27;, &#x27;&lt;CLOSE&gt;XRSI&#x27;, &#x27;&lt;CLOSE&gt;2.1&#x27;, &#x27;RSI2&#x27;, &#x27;&lt;CLOSE&gt;XSMA&#x27;, &#x27;&lt;CLOSE&gt;2.2&#x27;, &#x27;SMA2&#x27;, &#x27;&lt;CLOSE&gt;XROC&#x27;, &#x27;&lt;CLOSE&gt;2.3&#x27;, &#x27;ROC2&#x27;, &#x27;&lt;CLOSE&gt;XEMA&#x27;, &#x27;&lt;CLOSE&gt;2.4&#x27;, &#x27;EMA2&#x27;, &#x27;&lt;CLOSE&gt;XWMA&#x27;, &#x27;&lt;CLOSE&gt;2.5&#x27;, &#x27;WMA2&#x27;, &#x27;&lt;CLOSE&gt;XMACD&#x27;, &#x27;&lt;CLOSE&gt;2.6&#x27;, &#x27;MACD2&#x27;, &#x27;Max&lt;VOL&gt;_30&#x27;, &#x27;Mean&lt;VOL&gt;_30&#x27;, &#x27;Min&lt;VOL&gt;_30&#x27;, &#x27;Std&lt;VOL&gt;_30&#x27;, &#x27;Var&lt;VOL&gt;_30&#x27;, &#x27;Ptp&lt;VOL&gt;_30&#x27;, &#x27;Percentile_10_&lt;VOL&gt;_30&#x27;, &#x27;Percentile_60_&lt;VOL&gt;_30&#x27;, &#x27;Percentile_90_&lt;VOL&gt;_30&#x27;, &#x27;quantile_5_&lt;VOL&gt;_30&#x27;, &#x27;quantile_95_&lt;VOL&gt;_30&#x27;, &#x27;quantile_99_&lt;VOL&gt;_30&#x27;, &#x27;Max&lt;CLOSE&gt;_30&#x27;, &#x27;Mean&lt;CLOSE&gt;_30&#x27;, &#x27;Min&lt;CLOSE&gt;_30&#x27;, &#x27;Std&lt;CLOSE&gt;_30&#x27;, &#x27;Var&lt;CLOSE&gt;_30&#x27;, &#x27;Ptp&lt;CLOSE&gt;_30&#x27;, &#x27;Percentile_10_&lt;CLOSE&gt;_30&#x27;, &#x27;Percentile_60_&lt;CLOSE&gt;_30&#x27;, &#x27;Percentile_90_&lt;CLOSE&gt;_30&#x27;, &#x27;quantile_5_&lt;CLOSE&gt;_30&#x27;, &#x27;quantile_95_&lt;CLOSE&gt;_30&#x27;, &#x27;quantile_99_&lt;CLOSE&gt;_30&#x27;, &#x27;MaxRSI_30&#x27;, &#x27;MeanRSI_30&#x27;, &#x27;MinRSI_30&#x27;, &#x27;StdRSI_30&#x27;, &#x27;VarRSI_30&#x27;, &#x27;PtpRSI_30&#x27;, &#x27;Percentile_10_RSI_30&#x27;, &#x27;Percentile_60_RSI_30&#x27;, &#x27;Percentile_90_RSI_30&#x27;, &#x27;quantile_5_RSI_30&#x27;, &#x27;quantile_95_RSI_30&#x27;, &#x27;quantile_99_RSI_30&#x27;, &#x27;MaxMACD_30&#x27;, &#x27;MeanMACD_30&#x27;, &#x27;MinMACD_30&#x27;, &#x27;StdMACD_30&#x27;, &#x27;VarMACD_30&#x27;, &#x27;PtpMACD_30&#x27;, &#x27;Percentile_10_MACD_30&#x27;, &#x27;Percentile_60_MACD_30&#x27;, &#x27;Percentile_90_MACD_30&#x27;, &#x27;quantile_5_MACD_30&#x27;, &#x27;quantile_95_MACD_30&#x27;, &#x27;quantile_99_MACD_30&#x27;, &#x27;Max&lt;VOL&gt;_120&#x27;, &#x27;Mean&lt;VOL&gt;_120&#x27;, &#x27;Min&lt;VOL&gt;_120&#x27;, &#x27;Std&lt;VOL&gt;_120&#x27;, &#x27;Var&lt;VOL&gt;_120&#x27;, &#x27;Ptp&lt;VOL&gt;_120&#x27;, &#x27;Percentile_10_&lt;VOL&gt;_120&#x27;, &#x27;Percentile_60_&lt;VOL&gt;_120&#x27;, &#x27;Percentile_90_&lt;VOL&gt;_120&#x27;, &#x27;quantile_5_&lt;VOL&gt;_120&#x27;, &#x27;quantile_95_&lt;VOL&gt;_120&#x27;, &#x27;quantile_99_&lt;VOL&gt;_120&#x27;, &#x27;Max&lt;CLOSE&gt;_120&#x27;, &#x27;Mean&lt;CLOSE&gt;_120&#x27;, &#x27;Min&lt;CLOSE&gt;_120&#x27;, &#x27;Std&lt;CLOSE&gt;_120&#x27;, &#x27;Var&lt;CLOSE&gt;_120&#x27;, &#x27;Ptp&lt;CLOSE&gt;_120&#x27;, &#x27;Percentile_10_&lt;CLOSE&gt;_120&#x27;, &#x27;Percentile_60_&lt;CLOSE&gt;_120&#x27;, &#x27;Percentile_90_&lt;CLOSE&gt;_120&#x27;, &#x27;quantile_5_&lt;CLOSE&gt;_120&#x27;, &#x27;quantile_95_&lt;CLOSE&gt;_120&#x27;, &#x27;quantile_99_&lt;CLOSE&gt;_120&#x27;, &#x27;MaxRSI_120&#x27;, &#x27;MeanRSI_120&#x27;, &#x27;MinRSI_120&#x27;, &#x27;StdRSI_120&#x27;, &#x27;VarRSI_120&#x27;, &#x27;PtpRSI_120&#x27;, &#x27;Percentile_10_RSI_120&#x27;, &#x27;Percentile_60_RSI_120&#x27;, &#x27;Percentile_90_RSI_120&#x27;, &#x27;quantile_5_RSI_120&#x27;, &#x27;quantile_95_RSI_120&#x27;, &#x27;quantile_99_RSI_120&#x27;, &#x27;MaxMACD_120&#x27;, &#x27;MeanMACD_120&#x27;, &#x27;MinMACD_120&#x27;, &#x27;StdMACD_120&#x27;, &#x27;VarMACD_120&#x27;, &#x27;PtpMACD_120&#x27;, &#x27;Percentile_10_MACD_120&#x27;, &#x27;Percentile_60_MACD_120&#x27;, &#x27;Percentile_90_MACD_120&#x27;, &#x27;quantile_5_MACD_120&#x27;, &#x27;quantile_95_MACD_120&#x27;, &#x27;quantile_99_MACD_120&#x27;, &#x27;Close_Anterior&#x27;]</pre></div></div></div><div class=\"sk-serial\"><div class=\"sk-item\"><div class=\"sk-estimator sk-toggleable\"><input class=\"sk-toggleable__control sk-hidden--visually\" id=\"sk-estimator-id-4\" type=\"checkbox\" ><label for=\"sk-estimator-id-4\" class=\"sk-toggleable__label sk-toggleable__label-arrow\">RobustScaler</label><div class=\"sk-toggleable__content\"><pre>RobustScaler()</pre></div></div></div></div></div></div></div></div></div></div></div></div>"
      ],
      "text/plain": [
       "Pipeline(steps=[('transformer',\n",
       "                 ColumnTransformer(transformers=[('robustscaler',\n",
       "                                                  RobustScaler(),\n",
       "                                                  ['Unnamed: 0', '<OPEN>',\n",
       "                                                   '<HIGH>', '<LOW>', '<CLOSE>',\n",
       "                                                   '<TICKVOL>', '<VOL>',\n",
       "                                                   '<SPREAD>', '<DAY>',\n",
       "                                                   '<YEAR>', '<WEEKDAY>',\n",
       "                                                   '<MONTH>', 'Close', 'RSI',\n",
       "                                                   'RSI_Buy', 'RSI_Sell', 'SMA',\n",
       "                                                   'SMA_Buy', 'SMA_Sell', 'ROC',\n",
       "                                                   'ROC_Buy', 'ROC_Sell', 'EMA',\n",
       "                                                   'EMA_Buy', 'EMA_Sell', 'WMA',\n",
       "                                                   'WMA_Buy', 'WMA_Sell',\n",
       "                                                   'MACD', 'MACD_Buy', ...])]))])"
      ]
     },
     "execution_count": 13,
     "metadata": {},
     "output_type": "execute_result"
    }
   ],
   "source": [
    "from sklearn.compose import make_column_transformer\n",
    "from sklearn.preprocessing import RobustScaler\n",
    "from sklearn.preprocessing import OneHotEncoder\n",
    "from sklearn.preprocessing import LabelEncoder\n",
    "from sklearn.pipeline import Pipeline\n",
    "\n",
    "transformers = make_column_transformer(#(OneHotEncoder(), categorical_columns),\n",
    "                                       (RobustScaler(), numerical_columns))\n",
    "\n",
    "pipeline = Pipeline([\n",
    "    ('transformer', transformers)\n",
    "])\n",
    "\n",
    "pipeline.fit(market_data)\n",
    "\n",
    "#pipeline_target = Pipeline([\n",
    "#    ('transformer', transformers)\n",
    "#])\n",
    "#\n",
    "#pipeline_target.fit(target)"
   ]
  },
  {
   "cell_type": "code",
   "execution_count": 14,
   "metadata": {},
   "outputs": [],
   "source": [
    "market_data = pipeline.fit_transform(market_data)\n",
    "#target = pipeline_target.fit_transform(target)"
   ]
  },
  {
   "cell_type": "code",
   "execution_count": 15,
   "metadata": {},
   "outputs": [
    {
     "data": {
      "text/plain": [
       "array([[-1.09805949, -1.15086957, -1.17595049, ..., -0.59031119,\n",
       "        -0.60546316, -1.18518519],\n",
       "       [-1.09396171, -1.13695652, -1.16843501, ..., -0.51781476,\n",
       "        -0.35963861, -1.20530407],\n",
       "       [-1.08576615, -1.12086957, -1.14986737, ..., -0.41635559,\n",
       "        -0.49784034, -1.12117055],\n",
       "       ...,\n",
       "       [ 1.00954744, -0.32782609, -0.33465959, ...,  1.26098275,\n",
       "         1.47048858, -0.39506173],\n",
       "       [ 1.04416794, -0.08      , -0.09195402, ..., -0.85761538,\n",
       "        -0.88336193, -0.15134888],\n",
       "       [ 1.0484955 , -0.34478261, -0.33598585, ..., -0.70683213,\n",
       "        -0.71136223, -0.40329218]])"
      ]
     },
     "execution_count": 15,
     "metadata": {},
     "output_type": "execute_result"
    }
   ],
   "source": [
    "market_data"
   ]
  },
  {
   "cell_type": "code",
   "execution_count": 16,
   "metadata": {},
   "outputs": [
    {
     "data": {
      "text/plain": [
       "(420, 149)"
      ]
     },
     "execution_count": 16,
     "metadata": {},
     "output_type": "execute_result"
    }
   ],
   "source": [
    "market_data.shape"
   ]
  },
  {
   "cell_type": "code",
   "execution_count": 17,
   "metadata": {},
   "outputs": [
    {
     "data": {
      "text/plain": [
       "array([ 0,  0,  0,  0,  0,  0,  0,  0,  0,  0,  0,  0,  0,  0,  0,  0,  0,\n",
       "        0,  0,  0,  0,  0,  0,  0,  0,  0,  0,  0,  0,  0,  0,  0,  0,  0,\n",
       "        0,  0,  0,  0,  0,  0,  0,  0,  0,  0,  0,  0,  0,  0,  0,  0,  0,\n",
       "        0,  0,  0,  0,  0,  0,  0,  0,  0,  0,  0,  0,  0,  0,  0,  0,  0,\n",
       "        0,  0,  0,  0,  0,  0,  0,  0,  0,  0,  0,  0,  0,  0,  0,  0,  0,\n",
       "        0,  0,  0,  0,  0,  0,  0,  0,  0,  0,  0,  0,  0,  0,  0,  0,  0,\n",
       "        0,  0,  0,  0,  0,  0,  0,  0,  0,  0,  0,  0,  0,  0,  0,  0,  0,\n",
       "        0,  0,  0,  0,  0,  0,  0,  0,  0,  0,  0,  0,  0,  0,  0,  0,  0,\n",
       "        0,  0,  0,  0,  0,  0,  0,  0,  0,  0,  0,  0,  0,  0,  0,  0,  0,\n",
       "        0,  0,  0,  0,  0,  0,  0,  0,  0,  0,  0,  0,  0,  0,  0,  0,  0,\n",
       "        0,  0,  0,  0,  0,  0,  0,  0,  0,  0,  0,  0,  0,  0,  0,  0,  0,\n",
       "        0,  0,  0,  0,  0,  0,  0,  0,  0,  0,  0,  0,  0,  0,  0,  0,  0,\n",
       "        0,  0,  0,  0,  0,  0,  0,  0,  0,  0,  0,  0,  0,  0,  0,  0,  0,\n",
       "        0,  0,  0,  0,  0,  0,  0,  0,  0,  0,  0,  1,  1,  1,  1,  1,  1,\n",
       "        1,  1,  1,  1,  1,  1,  1,  1,  1,  1,  1,  1,  1,  1,  1,  1,  1,\n",
       "        1,  1,  1,  1,  1,  1,  1,  1,  1,  1,  1,  1,  1,  1,  1,  1,  1,\n",
       "        1,  1,  1,  1,  1,  1,  1,  1,  1,  1,  1,  1,  1,  1,  1,  1,  1,\n",
       "        1,  1,  1,  1,  1,  1,  1,  1,  1,  1,  1,  1,  1,  1,  1,  1,  1,\n",
       "        1,  1,  1,  1,  1,  1,  1,  1,  1,  1,  1,  1,  1,  1,  1,  1,  1,\n",
       "        1,  1, -1, -1, -1, -1, -1, -1, -1, -1, -1, -1, -1, -1, -1, -1, -1,\n",
       "       -1, -1, -1, -1, -1, -1, -1, -1, -1, -1, -1, -1, -1, -1, -1, -1, -1,\n",
       "       -1, -1, -1, -1, -1, -1, -1, -1, -1, -1, -1, -1, -1, -1, -1, -1, -1,\n",
       "       -1, -1, -1, -1, -1, -1, -1, -1, -1, -1, -1, -1, -1, -1, -1, -1, -1,\n",
       "       -1, -1, -1, -1, -1, -1, -1, -1, -1, -1, -1, -1, -1, -1, -1, -1, -1,\n",
       "       -1, -1, -1, -1, -1, -1, -1, -1, -1, -1, -1, -1], dtype=int64)"
      ]
     },
     "execution_count": 17,
     "metadata": {},
     "output_type": "execute_result"
    }
   ],
   "source": [
    "target.ravel()"
   ]
  },
  {
   "cell_type": "code",
   "execution_count": 18,
   "metadata": {},
   "outputs": [
    {
     "name": "stdout",
     "output_type": "stream",
     "text": [
      "Iteration: \t1 / 250\n",
      "Confirmed: \t0\n",
      "Tentative: \t149\n",
      "Rejected: \t0\n",
      "Iteration: \t2 / 250\n",
      "Confirmed: \t0\n",
      "Tentative: \t149\n",
      "Rejected: \t0\n",
      "Iteration: \t3 / 250\n",
      "Confirmed: \t0\n",
      "Tentative: \t149\n",
      "Rejected: \t0\n",
      "Iteration: \t4 / 250\n",
      "Confirmed: \t0\n",
      "Tentative: \t17\n",
      "Rejected: \t132\n",
      "Iteration: \t5 / 250\n",
      "Confirmed: \t9\n",
      "Tentative: \t8\n",
      "Rejected: \t132\n",
      "Iteration: \t6 / 250\n",
      "Confirmed: \t9\n",
      "Tentative: \t8\n",
      "Rejected: \t132\n",
      "Iteration: \t7 / 250\n",
      "Confirmed: \t9\n",
      "Tentative: \t8\n",
      "Rejected: \t132\n",
      "Iteration: \t8 / 250\n",
      "Confirmed: \t9\n",
      "Tentative: \t8\n",
      "Rejected: \t132\n",
      "Iteration: \t9 / 250\n",
      "Confirmed: \t9\n",
      "Tentative: \t8\n",
      "Rejected: \t132\n",
      "Iteration: \t10 / 250\n",
      "Confirmed: \t9\n",
      "Tentative: \t8\n",
      "Rejected: \t132\n",
      "Iteration: \t11 / 250\n",
      "Confirmed: \t9\n",
      "Tentative: \t8\n",
      "Rejected: \t132\n",
      "Iteration: \t12 / 250\n",
      "Confirmed: \t9\n",
      "Tentative: \t7\n",
      "Rejected: \t133\n",
      "Iteration: \t13 / 250\n",
      "Confirmed: \t9\n",
      "Tentative: \t7\n",
      "Rejected: \t133\n",
      "Iteration: \t14 / 250\n",
      "Confirmed: \t9\n",
      "Tentative: \t7\n",
      "Rejected: \t133\n",
      "Iteration: \t15 / 250\n",
      "Confirmed: \t9\n",
      "Tentative: \t5\n",
      "Rejected: \t135\n",
      "Iteration: \t16 / 250\n",
      "Confirmed: \t9\n",
      "Tentative: \t5\n",
      "Rejected: \t135\n",
      "Iteration: \t17 / 250\n",
      "Confirmed: \t9\n",
      "Tentative: \t5\n",
      "Rejected: \t135\n",
      "Iteration: \t18 / 250\n",
      "Confirmed: \t9\n",
      "Tentative: \t2\n",
      "Rejected: \t138\n",
      "Iteration: \t19 / 250\n",
      "Confirmed: \t9\n",
      "Tentative: \t2\n",
      "Rejected: \t138\n",
      "Iteration: \t20 / 250\n",
      "Confirmed: \t9\n",
      "Tentative: \t2\n",
      "Rejected: \t138\n",
      "Iteration: \t21 / 250\n",
      "Confirmed: \t9\n",
      "Tentative: \t0\n",
      "Rejected: \t140\n",
      "\n",
      "\n",
      "BorutaPy finished running.\n",
      "\n",
      "Iteration: \t22 / 250\n",
      "Confirmed: \t9\n",
      "Tentative: \t0\n",
      "Rejected: \t140\n"
     ]
    },
    {
     "data": {
      "text/html": [
       "<style>#sk-container-id-2 {color: black;background-color: white;}#sk-container-id-2 pre{padding: 0;}#sk-container-id-2 div.sk-toggleable {background-color: white;}#sk-container-id-2 label.sk-toggleable__label {cursor: pointer;display: block;width: 100%;margin-bottom: 0;padding: 0.3em;box-sizing: border-box;text-align: center;}#sk-container-id-2 label.sk-toggleable__label-arrow:before {content: \"▸\";float: left;margin-right: 0.25em;color: #696969;}#sk-container-id-2 label.sk-toggleable__label-arrow:hover:before {color: black;}#sk-container-id-2 div.sk-estimator:hover label.sk-toggleable__label-arrow:before {color: black;}#sk-container-id-2 div.sk-toggleable__content {max-height: 0;max-width: 0;overflow: hidden;text-align: left;background-color: #f0f8ff;}#sk-container-id-2 div.sk-toggleable__content pre {margin: 0.2em;color: black;border-radius: 0.25em;background-color: #f0f8ff;}#sk-container-id-2 input.sk-toggleable__control:checked~div.sk-toggleable__content {max-height: 200px;max-width: 100%;overflow: auto;}#sk-container-id-2 input.sk-toggleable__control:checked~label.sk-toggleable__label-arrow:before {content: \"▾\";}#sk-container-id-2 div.sk-estimator input.sk-toggleable__control:checked~label.sk-toggleable__label {background-color: #d4ebff;}#sk-container-id-2 div.sk-label input.sk-toggleable__control:checked~label.sk-toggleable__label {background-color: #d4ebff;}#sk-container-id-2 input.sk-hidden--visually {border: 0;clip: rect(1px 1px 1px 1px);clip: rect(1px, 1px, 1px, 1px);height: 1px;margin: -1px;overflow: hidden;padding: 0;position: absolute;width: 1px;}#sk-container-id-2 div.sk-estimator {font-family: monospace;background-color: #f0f8ff;border: 1px dotted black;border-radius: 0.25em;box-sizing: border-box;margin-bottom: 0.5em;}#sk-container-id-2 div.sk-estimator:hover {background-color: #d4ebff;}#sk-container-id-2 div.sk-parallel-item::after {content: \"\";width: 100%;border-bottom: 1px solid gray;flex-grow: 1;}#sk-container-id-2 div.sk-label:hover label.sk-toggleable__label {background-color: #d4ebff;}#sk-container-id-2 div.sk-serial::before {content: \"\";position: absolute;border-left: 1px solid gray;box-sizing: border-box;top: 0;bottom: 0;left: 50%;z-index: 0;}#sk-container-id-2 div.sk-serial {display: flex;flex-direction: column;align-items: center;background-color: white;padding-right: 0.2em;padding-left: 0.2em;position: relative;}#sk-container-id-2 div.sk-item {position: relative;z-index: 1;}#sk-container-id-2 div.sk-parallel {display: flex;align-items: stretch;justify-content: center;background-color: white;position: relative;}#sk-container-id-2 div.sk-item::before, #sk-container-id-2 div.sk-parallel-item::before {content: \"\";position: absolute;border-left: 1px solid gray;box-sizing: border-box;top: 0;bottom: 0;left: 50%;z-index: -1;}#sk-container-id-2 div.sk-parallel-item {display: flex;flex-direction: column;z-index: 1;position: relative;background-color: white;}#sk-container-id-2 div.sk-parallel-item:first-child::after {align-self: flex-end;width: 50%;}#sk-container-id-2 div.sk-parallel-item:last-child::after {align-self: flex-start;width: 50%;}#sk-container-id-2 div.sk-parallel-item:only-child::after {width: 0;}#sk-container-id-2 div.sk-dashed-wrapped {border: 1px dashed gray;margin: 0 0.4em 0.5em 0.4em;box-sizing: border-box;padding-bottom: 0.4em;background-color: white;}#sk-container-id-2 div.sk-label label {font-family: monospace;font-weight: bold;display: inline-block;line-height: 1.2em;}#sk-container-id-2 div.sk-label-container {text-align: center;}#sk-container-id-2 div.sk-container {/* jupyter's `normalize.less` sets `[hidden] { display: none; }` but bootstrap.min.css set `[hidden] { display: none !important; }` so we also need the `!important` here to be able to override the default hidden behavior on the sphinx rendered scikit-learn.org. See: https://github.com/scikit-learn/scikit-learn/issues/21755 */display: inline-block !important;position: relative;}#sk-container-id-2 div.sk-text-repr-fallback {display: none;}</style><div id=\"sk-container-id-2\" class=\"sk-top-container\"><div class=\"sk-text-repr-fallback\"><pre>BorutaPy(alpha=0.35,\n",
       "         estimator=RandomForestClassifier(class_weight=&#x27;balanced&#x27;, max_depth=5,\n",
       "                                          n_estimators=93, n_jobs=-1,\n",
       "                                          random_state=RandomState(MT19937) at 0x1EB80337440),\n",
       "         max_iter=250, n_estimators=&#x27;auto&#x27;,\n",
       "         random_state=RandomState(MT19937) at 0x1EB80337440, verbose=3)</pre><b>In a Jupyter environment, please rerun this cell to show the HTML representation or trust the notebook. <br />On GitHub, the HTML representation is unable to render, please try loading this page with nbviewer.org.</b></div><div class=\"sk-container\" hidden><div class=\"sk-item sk-dashed-wrapped\"><div class=\"sk-label-container\"><div class=\"sk-label sk-toggleable\"><input class=\"sk-toggleable__control sk-hidden--visually\" id=\"sk-estimator-id-5\" type=\"checkbox\" ><label for=\"sk-estimator-id-5\" class=\"sk-toggleable__label sk-toggleable__label-arrow\">BorutaPy</label><div class=\"sk-toggleable__content\"><pre>BorutaPy(alpha=0.35,\n",
       "         estimator=RandomForestClassifier(class_weight=&#x27;balanced&#x27;, max_depth=5,\n",
       "                                          n_estimators=93, n_jobs=-1,\n",
       "                                          random_state=RandomState(MT19937) at 0x1EB80337440),\n",
       "         max_iter=250, n_estimators=&#x27;auto&#x27;,\n",
       "         random_state=RandomState(MT19937) at 0x1EB80337440, verbose=3)</pre></div></div></div><div class=\"sk-parallel\"><div class=\"sk-parallel-item\"><div class=\"sk-item\"><div class=\"sk-label-container\"><div class=\"sk-label sk-toggleable\"><input class=\"sk-toggleable__control sk-hidden--visually\" id=\"sk-estimator-id-6\" type=\"checkbox\" ><label for=\"sk-estimator-id-6\" class=\"sk-toggleable__label sk-toggleable__label-arrow\">estimator: RandomForestClassifier</label><div class=\"sk-toggleable__content\"><pre>RandomForestClassifier(class_weight=&#x27;balanced&#x27;, max_depth=5, n_estimators=93,\n",
       "                       n_jobs=-1,\n",
       "                       random_state=RandomState(MT19937) at 0x1EB80337440)</pre></div></div></div><div class=\"sk-serial\"><div class=\"sk-item\"><div class=\"sk-estimator sk-toggleable\"><input class=\"sk-toggleable__control sk-hidden--visually\" id=\"sk-estimator-id-7\" type=\"checkbox\" ><label for=\"sk-estimator-id-7\" class=\"sk-toggleable__label sk-toggleable__label-arrow\">RandomForestClassifier</label><div class=\"sk-toggleable__content\"><pre>RandomForestClassifier(class_weight=&#x27;balanced&#x27;, max_depth=5, n_estimators=93,\n",
       "                       n_jobs=-1,\n",
       "                       random_state=RandomState(MT19937) at 0x1EB80337440)</pre></div></div></div></div></div></div></div></div></div></div>"
      ],
      "text/plain": [
       "BorutaPy(alpha=0.35,\n",
       "         estimator=RandomForestClassifier(class_weight='balanced', max_depth=5,\n",
       "                                          n_estimators=93, n_jobs=-1,\n",
       "                                          random_state=RandomState(MT19937) at 0x1EB80337440),\n",
       "         max_iter=250, n_estimators='auto',\n",
       "         random_state=RandomState(MT19937) at 0x1EB80337440, verbose=3)"
      ]
     },
     "execution_count": 18,
     "metadata": {},
     "output_type": "execute_result"
    }
   ],
   "source": [
    "\n",
    "\n",
    "# let's load the load_diabetes() dataset from sklearn\n",
    "X, y = market_data, target.ravel()\n",
    "\n",
    "# let's initialize a RF model \n",
    "model = RandomForestClassifier(n_jobs=-1, class_weight='balanced', max_depth=5)\n",
    "\n",
    "# let's initialize Boruta\n",
    "feat_selector = BorutaPy(\n",
    "    verbose=3,\n",
    "    estimator=model,\n",
    "    n_estimators='auto',\n",
    "    max_iter=250,  # number of iterations to perform\n",
    "    alpha =0.35\n",
    ")\n",
    "\n",
    "# train Boruta\n",
    "# N.B.: X and y must be numpy arrays\n",
    "feat_selector.fit(np.array(X), np.array(y))"
   ]
  },
  {
   "cell_type": "code",
   "execution_count": 19,
   "metadata": {},
   "outputs": [
    {
     "data": {
      "text/plain": [
       "array([False, False, False, False, False, False, False, False, False,\n",
       "       False, False, False, False,  True, False, False, False, False,\n",
       "       False,  True, False, False, False,  True,  True, False, False,\n",
       "       False, False, False, False, False, False, False, False,  True,\n",
       "        True, False, False, False, False,  True,  True, False, False,\n",
       "       False, False, False, False, False, False, False, False, False,\n",
       "       False, False, False, False, False, False, False, False, False,\n",
       "       False, False, False, False, False, False,  True, False, False,\n",
       "       False, False, False, False, False, False, False, False, False,\n",
       "       False, False, False, False, False, False, False, False, False,\n",
       "       False, False, False, False, False, False, False, False, False,\n",
       "       False, False, False, False, False, False, False, False, False,\n",
       "       False, False, False, False, False, False, False, False, False,\n",
       "       False, False, False, False, False, False, False, False, False,\n",
       "       False, False, False, False, False, False, False, False, False,\n",
       "       False, False, False, False, False, False, False, False, False,\n",
       "       False, False, False, False, False])"
      ]
     },
     "execution_count": 19,
     "metadata": {},
     "output_type": "execute_result"
    }
   ],
   "source": [
    "# check selected features - first 5 features are selected\n",
    "feat_selector.support_"
   ]
  },
  {
   "cell_type": "code",
   "execution_count": 20,
   "metadata": {},
   "outputs": [
    {
     "name": "stdout",
     "output_type": "stream",
     "text": [
      "RSI\n",
      "ROC\n",
      "EMA_Buy\n",
      "EMA_Sell\n",
      "<CLOSE>2.1\n",
      "RSI2\n",
      "<CLOSE>2.3\n",
      "ROC2\n",
      "RSI_Sell_EMA_Sell\n"
     ]
    }
   ],
   "source": [
    "for i in range(len(feat_selector.support_)):\n",
    "    if feat_selector.support_[i] == True:\n",
    "        print(all_columns[i])"
   ]
  },
  {
   "cell_type": "code",
   "execution_count": 21,
   "metadata": {},
   "outputs": [
    {
     "name": "stdout",
     "output_type": "stream",
     "text": [
      "RSI\n",
      "RSI_Buy\n",
      "ROC\n",
      "EMA_Buy\n",
      "EMA_Sell\n",
      "WMA_Buy\n",
      "WMA_Sell\n",
      "<CLOSE>2.1\n",
      "RSI2\n",
      "<CLOSE>2.3\n",
      "ROC2\n",
      "RSI_Sell_ROC_Sell\n",
      "RSI_Sell_EMA_Sell\n"
     ]
    }
   ],
   "source": [
    "for i in range(len(feat_selector.support_)):\n",
    "    if feat_selector.ranking_[i] in [i for i in range(1,5)]:\n",
    "        print(all_columns[i])"
   ]
  },
  {
   "cell_type": "code",
   "execution_count": 22,
   "metadata": {},
   "outputs": [
    {
     "name": "stdout",
     "output_type": "stream",
     "text": [
      "[ 35 111  76 106  84  74  56 140  71 141 139 138 137   1   4  17 134   8\n",
      "   8   1   6   6 126   1   1 130   4   4  12 113  55 115  57  48 103   1\n",
      "   1  94 104 123 108   1   1  87 120 118 113 125  99  79  13  35 101  84\n",
      "  81  34  44 109  38  66  32  70  42  65 135 123 117  10   2   1  99 132\n",
      " 136 128 121 105  22  25  24  14  14  10  33  28  19  64  16  29  21  44\n",
      "  71  50  44  18  46  30  47  41  27  31  73  91 102  94  91  89  77  96\n",
      "  84  68 110 122 132  91  53  51  58  19 119 132 116  99  88 127  63  48\n",
      "  22  74 107  69  38  79  77  25  58  60  60  37  86  91  97 112  40  82\n",
      "  66  52  54  62 129]\n"
     ]
    }
   ],
   "source": [
    "# check ranking of features\n",
    "print(feat_selector.ranking_)"
   ]
  },
  {
   "cell_type": "code",
   "execution_count": 23,
   "metadata": {},
   "outputs": [
    {
     "data": {
      "text/plain": [
       "(420, 9)"
      ]
     },
     "execution_count": 23,
     "metadata": {},
     "output_type": "execute_result"
    }
   ],
   "source": [
    "# call transform() on X to filter it down to selected features\n",
    "X_filtered = feat_selector.transform(X)\n",
    "X_filtered.shape"
   ]
  },
  {
   "cell_type": "code",
   "execution_count": 24,
   "metadata": {},
   "outputs": [],
   "source": [
    "import pickle\n",
    "with open('market_data.pkl', mode = 'wb') as f:\n",
    "  pickle.dump([X_filtered, y], f)"
   ]
  }
 ],
 "metadata": {
  "kernelspec": {
   "display_name": "Python 3",
   "language": "python",
   "name": "python3"
  },
  "language_info": {
   "codemirror_mode": {
    "name": "ipython",
    "version": 3
   },
   "file_extension": ".py",
   "mimetype": "text/x-python",
   "name": "python",
   "nbconvert_exporter": "python",
   "pygments_lexer": "ipython3",
   "version": "3.10.10"
  },
  "orig_nbformat": 4,
  "vscode": {
   "interpreter": {
    "hash": "8149941357ab46e91af0255cc46a7a09aaccc03c1980a89f638a5973ac5bc49f"
   }
  }
 },
 "nbformat": 4,
 "nbformat_minor": 2
}
